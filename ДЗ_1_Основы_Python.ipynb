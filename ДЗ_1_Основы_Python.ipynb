{
  "nbformat": 4,
  "nbformat_minor": 0,
  "metadata": {
    "colab": {
      "provenance": [],
      "authorship_tag": "ABX9TyMP4mvwkCb8NPNlcFUYQjjd"
    },
    "kernelspec": {
      "name": "python3",
      "display_name": "Python 3"
    },
    "language_info": {
      "name": "python"
    }
  },
  "cells": [
    {
      "cell_type": "markdown",
      "source": [
        "# Домашнее задание к лекции \"Основы Python\""
      ],
      "metadata": {
        "id": "BufSRzhoCSbC"
      }
    },
    {
      "cell_type": "markdown",
      "source": [
        "## Задание 1\n",
        "\n",
        "Даны 2 переменных, в которых хранятся строки произвольной длины: phrase_1 и phrase_2. Напишите код, который проверяет какая из этих строк длиннее."
      ],
      "metadata": {
        "id": "tRHD1qq6MAXO"
      }
    },
    {
      "cell_type": "code",
      "source": [
        "fry_phrase_1 = 'Нет ничего хуже, чем куда-то возвращаться в самом начале пути. Можно потерять правильное настроение…'\n",
        "fry_phrase_2 = 'Не пытайся оживлять мертвых друзей!                                                                 '\n",
        "\n",
        "if len(fry_phrase_1) > len(fry_phrase_2):\n",
        "    print('Результат:\\nФраза 1 длиннее фразы 2')\n",
        "elif len(fry_phrase_1) < len(fry_phrase_2):\n",
        "    print('Результат:\\nФраза 2 длиннее фразы 1')\n",
        "else:\n",
        "    print('Результат:\\nФразы равной длины')"
      ],
      "metadata": {
        "colab": {
          "base_uri": "https://localhost:8080/"
        },
        "id": "61aP1cXWCRTN",
        "outputId": "b4ddbe78-05aa-486e-d2b3-5c713045ab3f"
      },
      "execution_count": null,
      "outputs": [
        {
          "output_type": "stream",
          "name": "stdout",
          "text": [
            "Результат:\n",
            "Фразы равной длины\n"
          ]
        }
      ]
    },
    {
      "cell_type": "markdown",
      "source": [
        "## Задание 2\n",
        "\n",
        "Дана переменная, в которой хранится число (год). Необходимо написать программу, которая выведет, является ли данный год високосным или обычным."
      ],
      "metadata": {
        "id": "8xNFgEqTLJNm"
      }
    },
    {
      "cell_type": "code",
      "source": [
        "year_to_check = 1948\n",
        "\n",
        "if year_to_check % 400 == 0 or (year_to_check % 100 > 0 and year_to_check % 4 == 0): # Проверка на столетие и его кратность 400, а не столетий - 4\n",
        "    print('Результат:\\nВисокосный год')\n",
        "else:\n",
        "    print('Результат:\\nОбычный год')"
      ],
      "metadata": {
        "colab": {
          "base_uri": "https://localhost:8080/"
        },
        "id": "RBWHD6kTLNTV",
        "outputId": "c7fa7641-81ee-4e77-f044-190a17bea499"
      },
      "execution_count": null,
      "outputs": [
        {
          "output_type": "stream",
          "name": "stdout",
          "text": [
            "Результат:\n",
            "Високосный год\n"
          ]
        }
      ]
    },
    {
      "cell_type": "markdown",
      "source": [
        "## Задание 3\n",
        "\n",
        "Необходимо написать программу, которая будет запрашивать у пользователя месяц и дату рождения и выводить соответствующий знак зодиака."
      ],
      "metadata": {
        "id": "9iTsC3dQeG1k"
      }
    },
    {
      "cell_type": "code",
      "source": [
        "zodiac_signs = {'март': (21, 'Рыбы', 'Овен'), 'апрель': (21, 'Овен', 'Телец'), 'май': (22, 'Телец', 'Близнецы'), 'июнь': (22, 'Близнецы', 'Рак'), 'июль': (23, 'Рак', 'Лев'), 'август': (24, 'Лев', 'Дева'), 'сентябрь': (23, 'Дева', 'Весы'), 'октябрь': (24, 'Весы', 'Скорпион'), 'ноябрь': (23, 'Скорпион', 'Стрелец'), 'декабрь': (22, 'Стрелец', 'Козерог'), 'январь': (21, 'Козерог', 'Водолей'), 'февраль': (19, 'Водолей', 'Рыбы')}\n",
        "\n",
        "print('Здравствуйте! Хотите определить свой знак зодиака?')\n",
        "print()\n",
        "month = input('Введите месяц Вашего рождения: ').lower()\n",
        "day = int(input('Введите число даты рождения: '))\n",
        "print()\n",
        "if day >= zodiac_signs[month][0]:\n",
        "    print(f'Ваш знак зодиака - {zodiac_signs[month][2]}')\n",
        "elif day < zodiac_signs[month][0]:\n",
        "    print(f'Ваш знак зодиака - {zodiac_signs[month][1]}')\n",
        "else:\n",
        "    print('Похоже, Вы допустили ошибку. Проверьте месяц и число Вашего рождения и перезапустите приложение.')"
      ],
      "metadata": {
        "colab": {
          "base_uri": "https://localhost:8080/"
        },
        "id": "qVlggOXMuKAy",
        "outputId": "5e842741-c86a-4684-dc0c-74db0a8d0716"
      },
      "execution_count": null,
      "outputs": [
        {
          "output_type": "stream",
          "name": "stdout",
          "text": [
            "Здравствуйте! Хотите определить свой знак зодиака?\n",
            "\n",
            "Введите месяц Вашего рождения: Октябрь\n",
            "Введите число даты рождения: 18\n",
            "\n",
            "Ваш знак зодиака - Весы\n"
          ]
        }
      ]
    },
    {
      "cell_type": "markdown",
      "source": [
        "## Задание 4\n",
        "\n",
        "Вам нужно написать программу для подбора упаковок по размерам товара. Размеры (ширина, длина, высота) хранятся в переменных (в сантиметрах):\n",
        "\n",
        "Используйте следующие правила:\n",
        "\n",
        "*   если каждое из трех измерений менее или равно 15 сантиметрам, то выведите на экран \"Коробка №1\";\n",
        "*   если хотя бы одно из измерений больше 2 метров, то выводите \"Упаковка для лыж\";\n",
        "*   если хотя бы одно из измерений больше 15 сантиметров, но менее 50 сантиметров, то выводите \"Коробка №2\";\n",
        "*   во всех остальных случаях выводите \"Коробка №3\"."
      ],
      "metadata": {
        "id": "CL9Ucie6qpSS"
      }
    },
    {
      "cell_type": "code",
      "source": [
        "width = 45\n",
        "length = 18\n",
        "height = 35\n",
        "\n",
        "if width <= 15 and length <= 15 and height <= 15:\n",
        "    print('Результат:\\nКоробка № 1')\n",
        "elif width > 200 or length > 200 or height > 200:\n",
        "    print('Результат:\\nУпаковка для лыж')\n",
        "elif 15 < width < 50 or 15 < length < 50 or 15 < height < 50:\n",
        "    print('Результат:\\nКоробка № 2')\n",
        "else:\n",
        "    print('Результат:\\nКоробка № 3')"
      ],
      "metadata": {
        "colab": {
          "base_uri": "https://localhost:8080/"
        },
        "id": "41qtgaGfoKJm",
        "outputId": "c4588765-ee62-49ff-f864-581b0e550e7d"
      },
      "execution_count": null,
      "outputs": [
        {
          "output_type": "stream",
          "name": "stdout",
          "text": [
            "Результат:\n",
            "Коробка № 2\n"
          ]
        }
      ]
    },
    {
      "cell_type": "markdown",
      "source": [
        "## Задание 5\n",
        "\n",
        "Дана переменная, в которой хранится шестизначное число (номер проездного билета). Напишите программу, которая будет определять, является ли данный билет \"счастливым\". Билет считается счастливым, если сумма первых трех цифр совпадает с суммой последних трех цифр номера."
      ],
      "metadata": {
        "id": "EOywLA_p1oVM"
      }
    },
    {
      "cell_type": "code",
      "source": [
        "ticket_number = 126351\n",
        "first_half = 0\n",
        "second_half = 0\n",
        "\n",
        "for i in str(ticket_number)[:3]:\n",
        "    first_half += int(i)\n",
        "\n",
        "for i in str(ticket_number)[-3:]:\n",
        "    second_half += int(i)\n",
        "\n",
        "if first_half == second_half:\n",
        "    print('Результат:\\nСчастливый билет')\n",
        "else:\n",
        "    print('Результат:\\nНесчастливый билет')"
      ],
      "metadata": {
        "colab": {
          "base_uri": "https://localhost:8080/"
        },
        "id": "Eg5nbIiV044U",
        "outputId": "e2dbc28d-d560-4271-dffc-59b1a8223fbd"
      },
      "execution_count": null,
      "outputs": [
        {
          "output_type": "stream",
          "name": "stdout",
          "text": [
            "Результат:\n",
            "Несчастливый билет\n"
          ]
        }
      ]
    },
    {
      "cell_type": "markdown",
      "source": [
        "## Задание 6\n",
        "\n",
        "Напишите программу, которая сможет вычислять площади трех фигур (круг, треугольник и прямоугольник). Тип фигуры запрашиваем через пользовательский ввод, после чего делаем запрос характеристик фигуры:\n",
        "\n",
        "*   если пользователь выбрал круг, запрашиваем его радиус,\n",
        "*   если треугольник – длины трех его сторон;\n",
        "*   если прямоугольник – длины двух его сторон."
      ],
      "metadata": {
        "id": "7iGdWqPm9Deg"
      }
    },
    {
      "cell_type": "code",
      "source": [
        "import math\n",
        "\n",
        "geometric_figure = input('Выберите одну из геометрических фигур (круг, треугольник, прямоугольник): ').lower()\n",
        "\n",
        "if geometric_figure == 'круг':\n",
        "    circle_radius = float(input('Укажите радиус круга: '))\n",
        "    circle_area = round(math.pi * circle_radius ** 2, 2)\n",
        "    print(f'Результат:\\nПлощадь круга - {circle_area}')\n",
        "elif geometric_figure == 'треугольник':\n",
        "    length_a = float(input('Введите длину стороны А: '))\n",
        "    length_b = float(input('Введите длину стороны B: '))\n",
        "    length_c = float(input('Введите длину стороны C: '))\n",
        "    semiperimeter_abc = (length_a + length_b + length_c) / 2\n",
        "    area_abc = round(math.sqrt(semiperimeter_abc * (semiperimeter_abc - length_a) * (semiperimeter_abc - length_b) * (semiperimeter_abc - length_c)), 2)\n",
        "    print(f'Результат:\\nПлощадь треугольника - {area_abc}')\n",
        "else:\n",
        "    length_a = float(input('Введите длину стороны А: '))\n",
        "    length_b = float(input('Введите длину стороны В: '))\n",
        "    area_ab = round(length_a * length_b, 2)\n",
        "    print(f'Результат:\\nПлощадь прямоугольника - {area_ab}')"
      ],
      "metadata": {
        "colab": {
          "base_uri": "https://localhost:8080/"
        },
        "id": "D6_wh6c54yJ_",
        "outputId": "e7a12587-cc80-48c5-9832-e8d8d697911e"
      },
      "execution_count": null,
      "outputs": [
        {
          "output_type": "stream",
          "name": "stdout",
          "text": [
            "Выберите одну из геометрических фигур (круг, треугольник, прямоугольник): прямоугольник\n",
            "Введите длину стороны А: 6\n",
            "Введите длину стороны В: 3\n",
            "Результат:\n",
            "Площадь прямоугольника - 18.0\n"
          ]
        }
      ]
    }
  ]
}