{
  "nbformat": 4,
  "nbformat_minor": 0,
  "metadata": {
    "colab": {
      "provenance": [],
      "authorship_tag": "ABX9TyP3XZuPYJm2j+wpXZZPfii7"
    },
    "kernelspec": {
      "name": "python3",
      "display_name": "Python 3"
    },
    "language_info": {
      "name": "python"
    }
  },
  "cells": [
    {
      "cell_type": "markdown",
      "source": [
        "# Домашнее задание к лекции \"Понятие класса\""
      ],
      "metadata": {
        "id": "cySOGdZ-8228"
      }
    },
    {
      "cell_type": "markdown",
      "source": [
        "## Задание 1\n",
        "\n",
        "Напишите функцию, которая возвращает название валюты (поле ‘Name’) с максимальным значением курса с помощью сервиса https://www.cbr-xml-daily.ru/daily_json.js"
      ],
      "metadata": {
        "id": "5gOqW9kr9K_l"
      }
    },
    {
      "cell_type": "code",
      "execution_count": null,
      "metadata": {
        "id": "LK7xejI48eFC",
        "colab": {
          "base_uri": "https://localhost:8080/"
        },
        "outputId": "d48831bf-4227-43c5-fce7-4bc17ad81eb7"
      },
      "outputs": [
        {
          "output_type": "stream",
          "name": "stdout",
          "text": [
            "СДР (специальные права заимствования)\n"
          ]
        }
      ],
      "source": [
        "import requests # Потренировалась класс с нуля создать, чтобы лучше разобраться\n",
        "\n",
        "class Currency:\n",
        "    def __init__(self):\n",
        "        self._response = requests.get('https://www.cbr-xml-daily.ru/daily_json.js').json()\n",
        "\n",
        "    def get_max(self):\n",
        "        self._data = {i['Value']: i['Name'] for i in self._response['Valute'].values()}\n",
        "        return self._data[max(self._data)]\n",
        "\n",
        "currency = Currency()\n",
        "print(currency.get_max())\n",
        "\n",
        "# Решение, если просто функцию писать\n",
        "\n",
        "# def get_max_currency():\n",
        "#     response = requests.get('https://www.cbr-xml-daily.ru/daily_json.js').json()\n",
        "#     all_currencies = {i['Value']: i['Name'] for i in response['Valute'].values()}\n",
        "#     return all_currencies[max(all_currencies)]\n",
        "\n",
        "# print(get_max_currency())"
      ]
    },
    {
      "cell_type": "markdown",
      "source": [
        "## Задание 2\n",
        "\n",
        "Добавьте в класс Rate параметр diff (со значениями True или False), который в случае значения True в методах курсов валют (eur, usd итд) будет возвращать не курс валюты, а изменение по сравнению с прошлым значением. Считайте, self.diff будет принимать значение True только при возврате значения курса. При отображении всей информации о валюте он не используется."
      ],
      "metadata": {
        "id": "-c1eyOhqaN6j"
      }
    },
    {
      "cell_type": "code",
      "source": [
        "from exchange import Rate\n",
        "\n",
        "class RateDifference(Rate):\n",
        "    def __init__(self, diff=True):\n",
        "        super().__init__(format='value')\n",
        "        self.diff = diff\n",
        "\n",
        "    def make_format(self, currency):\n",
        "        response = self.exchange_rates()\n",
        "        if currency in response:\n",
        "            if self.format == 'full':\n",
        "                return response[currency]\n",
        "            if self.format == 'value':\n",
        "                if self.diff:\n",
        "                    current_rate = response[currency]['Value']\n",
        "                    previous_rate = self.exchange_rates()[currency]['Previous']\n",
        "                    return round(current_rate - previous_rate, 4)\n",
        "                return response[currency]['Value']\n",
        "        return 'Error'\n",
        "\n",
        "currency = RateDifference()\n",
        "print(currency.eur())\n",
        "currency.format = 'full'\n",
        "print(currency.usd())\n",
        "currency.format = 'value'\n",
        "currency.diff = False\n",
        "print(currency.AZN())\n",
        "currency.make_format('AKR')"
      ],
      "metadata": {
        "colab": {
          "base_uri": "https://localhost:8080/",
          "height": 88
        },
        "id": "aGez5Xv0b5I5",
        "outputId": "bcf51c5f-2973-408f-f446-4d75b1339f5f"
      },
      "execution_count": null,
      "outputs": [
        {
          "output_type": "stream",
          "name": "stdout",
          "text": [
            "-0.2681\n",
            "{'ID': 'R01235', 'NumCode': '840', 'CharCode': 'USD', 'Nominal': 1, 'Name': 'Доллар США', 'Value': 79.1703, 'Previous': 79.1272}\n",
            "46.5708\n"
          ]
        },
        {
          "output_type": "execute_result",
          "data": {
            "text/plain": [
              "'Error'"
            ],
            "application/vnd.google.colaboratory.intrinsic+json": {
              "type": "string"
            }
          },
          "metadata": {},
          "execution_count": 13
        }
      ]
    },
    {
      "cell_type": "markdown",
      "source": [
        "## Задание 3\n",
        "\n",
        "Напишите класс Designer, который учитывает количество международных премий (повышение на 1 грейд за каждые 7 баллов, получение международной премии – это +2 балла). Считайте, что при выходе на работу сотрудник уже имеет две премии и их количество не меняется со стажем (конечно если хотите это можно вручную менять).\n",
        "\n",
        "Класс Designer пишется по аналогии с классом Developer из материалов занятия."
      ],
      "metadata": {
        "id": "mvPa-8gEsT6t"
      }
    },
    {
      "cell_type": "code",
      "source": [
        "class Employee:\n",
        "    def __init__(self, name, seniority):\n",
        "        self.name = name\n",
        "        self.seniority = seniority\n",
        "        self.grade = 1\n",
        "\n",
        "    def grade_up(self):\n",
        "        self.grade += 1\n",
        "\n",
        "    def publish_grade(self):\n",
        "        print(self.name, self.grade)\n",
        "\n",
        "    def check_if_it_is_time_for_upgrade(self):\n",
        "        pass\n",
        "\n",
        "class Developer(Employee):\n",
        "    def __init__(self, name, seniority):\n",
        "        super().__init__(name, seniority)\n",
        "\n",
        "    def check_if_it_is_time_for_upgrade(self):\n",
        "        self.seniority += 1\n",
        "        if self.seniority % 5 == 0:\n",
        "            self.grade_up()\n",
        "        return self.publish_grade()\n",
        "\n",
        "class Designer(Developer):\n",
        "    def __init__(self, name, seniority, grants):\n",
        "        super().__init__(name, seniority)\n",
        "        self.grants = grants\n",
        "        self.seniority += self.grants * 2\n",
        "\n",
        "    def check_if_it_is_time_for_upgrade(self):\n",
        "        self.seniority += 1\n",
        "        if self.seniority % 7 == 0:\n",
        "            self.grade_up()\n",
        "            return self.publish_grade()\n",
        "\n",
        "    def check_for_grants(self):\n",
        "        # Считаем, что сотрудник участвует в международном конкурсе\n",
        "        self.grants += 1\n",
        "        self.seniority += 2\n",
        "        print (f'{self.name}, поздравляем с получением международной премии!')\n",
        "        if 0 <= self.seniority % 7 <= 1: # Учитываем, если после победы градация превысилась\n",
        "            self.grade_up()\n",
        "            return self.publish_grade()\n",
        "\n",
        "elena = Designer('Елена', 0, 2)\n",
        "print(elena.seniority)\n",
        "for i in range(5):\n",
        "    elena.check_if_it_is_time_for_upgrade()\n",
        "print(elena.seniority)\n",
        "for i in range(3):\n",
        "    elena.check_for_grants()\n",
        "print(elena.seniority)\n",
        "print(elena.grants)\n",
        "elena.check_if_it_is_time_for_upgrade()\n",
        "elena.check_for_grants()\n",
        "elena.check_for_grants()\n",
        "elena.check_if_it_is_time_for_upgrade()\n",
        "print(elena.seniority)\n",
        "print(elena.grants)"
      ],
      "metadata": {
        "colab": {
          "base_uri": "https://localhost:8080/"
        },
        "id": "UxAjjF8JsuHJ",
        "outputId": "7c3a9a06-655c-4b72-f715-248981b6785a"
      },
      "execution_count": null,
      "outputs": [
        {
          "output_type": "stream",
          "name": "stdout",
          "text": [
            "4\n",
            "Елена 2\n",
            "9\n",
            "Елена, поздравляем с получением международной премии!\n",
            "Елена, поздравляем с получением международной премии!\n",
            "Елена, поздравляем с получением международной премии!\n",
            "Елена 3\n",
            "15\n",
            "5\n",
            "Елена, поздравляем с получением международной премии!\n",
            "Елена, поздравляем с получением международной премии!\n",
            "Елена 4\n",
            "21\n",
            "7\n"
          ]
        }
      ]
    }
  ]
}