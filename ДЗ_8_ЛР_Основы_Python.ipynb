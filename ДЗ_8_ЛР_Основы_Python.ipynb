{
  "cells": [
    {
      "cell_type": "markdown",
      "metadata": {
        "id": "T_Mu3OQW7tl1"
      },
      "source": [
        "## Лабораторная работа по курсу «Основы Python»"
      ]
    },
    {
      "cell_type": "markdown",
      "metadata": {
        "id": "6bHIUNeP7tl3"
      },
      "source": [
        "### При выполнении работы допускается использование любых внешних модулей и пакетов."
      ]
    },
    {
      "cell_type": "markdown",
      "metadata": {
        "id": "5qzkOn_L7tl4"
      },
      "source": [
        "#### Задача 1"
      ]
    },
    {
      "cell_type": "markdown",
      "metadata": {
        "id": "aNgJ-B2p7tl5"
      },
      "source": [
        "Дан список:"
      ]
    },
    {
      "cell_type": "code",
      "execution_count": 2,
      "metadata": {
        "id": "tVhMx-w47tl6"
      },
      "outputs": [],
      "source": [
        "list_01 = [1, 1, 2, 3, 5, 8, 13, 21, 34, 55, 89, 144, 233, 377, 610, 14, 46, 273, 22, 99, 15, 1000]"
      ]
    },
    {
      "cell_type": "markdown",
      "metadata": {
        "id": "8n9fMQfc7tl7"
      },
      "source": [
        "Напишите алгоритм, который выводит число, равное сумме элементов списка, которые больше 10, но меньше 100, и которые больше 200, но меньше 500."
      ]
    },
    {
      "cell_type": "code",
      "execution_count": 3,
      "metadata": {
        "colab": {
          "base_uri": "https://localhost:8080/"
        },
        "id": "twPmotaj7tl7",
        "outputId": "ec4f7f87-6b48-4583-b7a3-f50346c5e97c"
      },
      "outputs": [
        {
          "output_type": "stream",
          "name": "stdout",
          "text": [
            "1291\n"
          ]
        }
      ],
      "source": [
        "def sum_numbers(data):\n",
        "    return sum(i for i in data if 10 < i < 100 or 200 < i < 500)\n",
        "\n",
        "print(sum_numbers(list_01))"
      ]
    },
    {
      "cell_type": "markdown",
      "metadata": {
        "id": "bN3hzkCn7tl7"
      },
      "source": [
        "#### Задача 2"
      ]
    },
    {
      "cell_type": "markdown",
      "metadata": {
        "id": "3t7TE3Yy7tl8"
      },
      "source": [
        "Дана строка:"
      ]
    },
    {
      "cell_type": "code",
      "execution_count": null,
      "metadata": {
        "id": "_CIXYWmH7tl8"
      },
      "outputs": [],
      "source": [
        "some_string = \"History is always written by the winners. When two cultures clash, the loser is obliterated, and the winner writes the history books - books which glorify their own cause and disparage the conquered foe. As Napoleon once said, 'What is history, but a fable agreed upon?'\""
      ]
    },
    {
      "cell_type": "markdown",
      "metadata": {
        "id": "4lu1AQON7tl8"
      },
      "source": [
        "Напишите функцию, которая будет принимать в качестве аргумента букву и выводить все слова из строки, начинающиеся на эту букву (например, “w”)."
      ]
    },
    {
      "cell_type": "code",
      "execution_count": null,
      "metadata": {
        "colab": {
          "base_uri": "https://localhost:8080/"
        },
        "id": "5_rvsnAg7tl9",
        "outputId": "c2c31e46-dcc8-40bb-c624-5a77e0d5ee5e"
      },
      "outputs": [
        {
          "output_type": "stream",
          "name": "stdout",
          "text": [
            "['written', 'winners', 'when', 'winner', 'writes', 'which', 'what']\n"
          ]
        }
      ],
      "source": [
        "import re\n",
        "\n",
        "def get_words(string, letter):\n",
        "    return [i for i in re.sub(r'[^\\w\\s]', '', string).lower().split() if i.startswith(letter)]\n",
        "\n",
        "print(get_words(some_string, 'w'))"
      ]
    },
    {
      "cell_type": "markdown",
      "metadata": {
        "id": "tmwsFR1J7tl9"
      },
      "source": [
        "#### Задача 3"
      ]
    },
    {
      "cell_type": "markdown",
      "metadata": {
        "id": "TGlYzgUh7tl9"
      },
      "source": [
        "Напишите функцию, которая генерирует случайную последовательность из 6 цифр, причем в этой последовательности должна быть как минимум одна цифра 3. Позиция 3 определяться случайным образом. Например: \"456379\" или \"033456\"."
      ]
    },
    {
      "cell_type": "code",
      "execution_count": null,
      "metadata": {
        "colab": {
          "base_uri": "https://localhost:8080/"
        },
        "id": "noobROZD7tl9",
        "outputId": "c202ccb1-8e61-434a-81c6-50c576c841ac"
      },
      "outputs": [
        {
          "output_type": "stream",
          "name": "stdout",
          "text": [
            "220813\n"
          ]
        }
      ],
      "source": [
        "import random\n",
        "\n",
        "def generate_number():\n",
        "    number = str(random.randint(0, 9))\n",
        "    for i in range(5):\n",
        "        number += str(random.randint(0, 9))\n",
        "    return int(number) if '3' in number else generate_number()\n",
        "\n",
        "print(generate_number())"
      ]
    },
    {
      "cell_type": "markdown",
      "metadata": {
        "id": "pY0VEHaZ7tl-"
      },
      "source": [
        "#### Задача 4"
      ]
    },
    {
      "cell_type": "markdown",
      "metadata": {
        "id": "Ur6TLF9D7tl-"
      },
      "source": [
        "Данные студентов представлены в виде списка списков:"
      ]
    },
    {
      "cell_type": "code",
      "execution_count": null,
      "metadata": {
        "id": "ZMQ_cvmw7tl_"
      },
      "outputs": [],
      "source": [
        "students = [\n",
        "[\"0001\", \"Антонов\", \"Антон\", \"Игоревич\", \"20.08.2009\",\"БСТ161\"],\n",
        "[\"1102\", \"Богов\", \"Артем\", \"Игоревич\", \"25.01.2010\",\"БСТ162\"],\n",
        "[\"0333\", \"Глаголева\", \"Анастасия\", \"Николаевна\", \"11.07.2009\", \"БСТ163\"],\n",
        "[\"4004\", \"Степанова\", \"Наталья\", \"Александровна\", \"13.02.2008\", \"БСТ161\"],\n",
        "[\"0045\", \"Боков\", \"Игорь\", \"Харитонович\", \"02.06.2009\", \"БСТ161\"],\n",
        "[\"0096\", \"Васильков\", \"Валентин\", \"Сергеевич\", \"20.03.2009\", \"БСТ164\"],\n",
        "[\"0607\", \"Сиропова\", \"Виолетта\", \"Эдуардовна\", \"28.05.2010\", \"БСТ162\"],\n",
        "[\"4014\", \"Потапов\", \"Дмитрий\", \"Станиславович\", \"14.02.2012\", \"БСТ161\"]\n",
        "    ]"
      ]
    },
    {
      "cell_type": "markdown",
      "metadata": {
        "id": "O4pLFcXj7tmA"
      },
      "source": [
        "1. Преобразуйте данные таким образом, чтобы они были представлены в виде словаря, в котором ключами являются номера студентов, а значениями — список из других данных о студентах."
      ]
    },
    {
      "cell_type": "code",
      "execution_count": null,
      "metadata": {
        "colab": {
          "base_uri": "https://localhost:8080/"
        },
        "id": "h9BdJ1yU7tmA",
        "outputId": "4e3be41d-43c0-4b26-c193-b87cbe568663"
      },
      "outputs": [
        {
          "output_type": "stream",
          "name": "stdout",
          "text": [
            "{'0001': ['Антонов', 'Антон', 'Игоревич', '20.08.2009', 'БСТ161'], '1102': ['Богов', 'Артем', 'Игоревич', '25.01.2010', 'БСТ162'], '0333': ['Глаголева', 'Анастасия', 'Николаевна', '11.07.2009', 'БСТ163'], '4004': ['Степанова', 'Наталья', 'Александровна', '13.02.2008', 'БСТ161'], '0045': ['Боков', 'Игорь', 'Харитонович', '02.06.2009', 'БСТ161'], '0096': ['Васильков', 'Валентин', 'Сергеевич', '20.03.2009', 'БСТ164'], '0607': ['Сиропова', 'Виолетта', 'Эдуардовна', '28.05.2010', 'БСТ162'], '4014': ['Потапов', 'Дмитрий', 'Станиславович', '14.02.2012', 'БСТ161']}\n"
          ]
        }
      ],
      "source": [
        "def get_dict(data):\n",
        "    return {i[0]: i[1:] for i in data}\n",
        "\n",
        "print(get_dict(students))"
      ]
    },
    {
      "cell_type": "markdown",
      "metadata": {
        "id": "qz8MYHLT7tmB"
      },
      "source": [
        "2. Напишите функцию, которая принимает номер группы и выводит пронумерованный и упорядоченный по алфавиту список (фамилии, имена, отчества) всех студентов этой группы. Необходимо обращаться к словарю."
      ]
    },
    {
      "cell_type": "code",
      "execution_count": null,
      "metadata": {
        "colab": {
          "base_uri": "https://localhost:8080/"
        },
        "id": "ZVLdmbCw7tmB",
        "outputId": "96366a5c-55c0-47b1-8e16-372b6bdb954d"
      },
      "outputs": [
        {
          "output_type": "stream",
          "name": "stdout",
          "text": [
            "1 Антонов Антон Игоревич\n",
            "2 Боков Игорь Харитонович\n",
            "3 Потапов Дмитрий Станиславович\n",
            "4 Степанова Наталья Александровна\n"
          ]
        }
      ],
      "source": [
        "def get_students(data, group):\n",
        "    for index, value in enumerate(sorted([f'{i[0]} {i[1]} {i[2]}' for i in data.values() if group == i[-1]]), 1):\n",
        "        print(index, value)\n",
        "\n",
        "get_students(get_dict(students), 'БСТ161')"
      ]
    },
    {
      "cell_type": "markdown",
      "metadata": {
        "id": "lOgXguaw7tmB"
      },
      "source": [
        "#### Задача 5"
      ]
    },
    {
      "cell_type": "markdown",
      "metadata": {
        "id": "LTRbWpUK7tmB"
      },
      "source": [
        "Создайте класс Student, который создает объекты с данными о студентах (как в задаче 4). Класс должен иметь следующие методы: add_to_dict (добавляет объект в словарь из задачи 4), update_dict (обновляет запись о студенте в словаре из задачи 4), change_group (изменяет номер группы студента), change_id (изменяет номер студента) и print_data (выводит на экран данные студента)."
      ]
    },
    {
      "cell_type": "code",
      "execution_count": null,
      "metadata": {
        "id": "3QUL_vDg7tmB"
      },
      "outputs": [],
      "source": [
        "class Student:\n",
        "    def __init__(self, s_id, last_name, first_name, patronomic_name, date, group):\n",
        "\n",
        "\n",
        "    def add_to_dict(self):\n",
        "\n",
        "\n",
        "    def update_dict(self):\n",
        "\n",
        "\n",
        "    def change_group(self, new_group):\n",
        "\n",
        "\n",
        "    def change_id(self, new_id):\n",
        "\n",
        "\n",
        "    def print_data(self):\n",
        "\n"
      ]
    },
    {
      "cell_type": "code",
      "execution_count": null,
      "metadata": {
        "id": "rmHVcPA97tmC"
      },
      "outputs": [],
      "source": [
        "class Student:\n",
        "    def __init__(self, s_id, last_name, first_name, patronomic_name, date, group):\n",
        "        self.s_id = s_id\n",
        "        self.last_name = last_name\n",
        "        self.first_name = first_name\n",
        "        self.patronomic_name = patronomic_name\n",
        "        self.date = date\n",
        "        self.group = group\n",
        "        self._students_dict = get_dict(students)\n",
        "\n",
        "    def add_to_dict(self):\n",
        "        self._students_dict.setdefault(self.s_id, [self.last_name, self.first_name, self.patronomic_name, self.date, self.group])\n",
        "        return self._students_dict\n",
        "\n",
        "    def update_dict(self):\n",
        "        self._students_dict.update({self.s_id: [self.last_name, self.first_name, self.patronomic_name, self.date, self.group]})\n",
        "        return self._students_dict\n",
        "\n",
        "    def change_group(self, new_group):\n",
        "        self.group = new_group\n",
        "        self.update_dict()\n",
        "\n",
        "    def change_id(self, new_id):\n",
        "        self.s_id = new_id\n",
        "        self.update_dict()\n",
        "\n",
        "    def print_data(self):\n",
        "        print(self._students_dict[self.s_id])"
      ]
    },
    {
      "cell_type": "markdown",
      "metadata": {
        "id": "FiGjvCY37tmB"
      },
      "source": [
        "1. Создайте объект класса, добавьте его в словарь. Обновленный словарь выведете на экран."
      ]
    },
    {
      "cell_type": "code",
      "execution_count": null,
      "metadata": {
        "id": "kJuK-9Pf7tmC"
      },
      "outputs": [],
      "source": [
        "volkova = Student('0001', 'Волкова', 'Галина', 'Сергеевна', '18.12.2022', 'БСТ100')"
      ]
    },
    {
      "cell_type": "code",
      "execution_count": null,
      "metadata": {
        "colab": {
          "base_uri": "https://localhost:8080/"
        },
        "id": "7gP_KT3Q7tmC",
        "outputId": "78b6a5d7-e9d6-4212-d8d1-c7982fd4af6c"
      },
      "outputs": [
        {
          "output_type": "stream",
          "name": "stdout",
          "text": [
            "{'0001': ['Антонов', 'Антон', 'Игоревич', '20.08.2009', 'БСТ161'], '1102': ['Богов', 'Артем', 'Игоревич', '25.01.2010', 'БСТ162'], '0333': ['Глаголева', 'Анастасия', 'Николаевна', '11.07.2009', 'БСТ163'], '4004': ['Степанова', 'Наталья', 'Александровна', '13.02.2008', 'БСТ161'], '0045': ['Боков', 'Игорь', 'Харитонович', '02.06.2009', 'БСТ161'], '0096': ['Васильков', 'Валентин', 'Сергеевич', '20.03.2009', 'БСТ164'], '0607': ['Сиропова', 'Виолетта', 'Эдуардовна', '28.05.2010', 'БСТ162'], '4014': ['Потапов', 'Дмитрий', 'Станиславович', '14.02.2012', 'БСТ161'], '0002': ['Волкова', 'Галина', 'Сергеевна', '18.12.2022', 'БСТ100']}\n"
          ]
        }
      ],
      "source": [
        "volkova.change_id('0002')\n",
        "print(volkova.add_to_dict())"
      ]
    },
    {
      "cell_type": "markdown",
      "metadata": {
        "id": "h4R4rUjX7tmJ"
      },
      "source": [
        "2. Измените номер группы студентки Волковой на 'БСТ161' и выведите обновленный список группы."
      ]
    },
    {
      "cell_type": "code",
      "execution_count": null,
      "metadata": {
        "colab": {
          "base_uri": "https://localhost:8080/"
        },
        "id": "wZ6cYXiC7tmJ",
        "outputId": "00c26f12-fd45-4261-f3c2-43d60cd77ccf"
      },
      "outputs": [
        {
          "output_type": "stream",
          "name": "stdout",
          "text": [
            "1 Антонов Антон Игоревич\n",
            "2 Боков Игорь Харитонович\n",
            "3 Волкова Галина Сергеевна\n",
            "4 Потапов Дмитрий Станиславович\n",
            "5 Степанова Наталья Александровна\n"
          ]
        }
      ],
      "source": [
        "volkova.change_group('БСТ161')\n",
        "get_students(volkova._students_dict, 'БСТ161')"
      ]
    },
    {
      "cell_type": "markdown",
      "metadata": {
        "id": "hZu9tNLR7tmK"
      },
      "source": [
        "#### Задача 6"
      ]
    },
    {
      "cell_type": "markdown",
      "metadata": {
        "id": "tRwrnm5P7tmK"
      },
      "source": [
        "Дана матрица matrix. Напишите код, который будет транспонировать её (то есть, делать из строк столбцы) в matrix_t:\n",
        "\n",
        "matrix_t = [\n",
        "    [0, 6, 3, 4, 5],\n",
        "    [1, 2, 3, 6, 7],\n",
        "    [2, 2, 3, 7, 3],\n",
        "    [4, 1, 3, 1, 4],\n",
        "    [8, 9, 3, 2, 0]\n",
        "]"
      ]
    },
    {
      "cell_type": "code",
      "execution_count": null,
      "metadata": {
        "id": "8LTFc0v_7tmK"
      },
      "outputs": [],
      "source": [
        "matrix = [\n",
        "    [0,1,2,4,8],\n",
        "    [6,2,2,1,9],\n",
        "    [3,3,3,3,3],\n",
        "    [4,6,7,1,2],\n",
        "    [5,7,3,4,0]\n",
        "]"
      ]
    },
    {
      "cell_type": "code",
      "execution_count": null,
      "metadata": {
        "colab": {
          "base_uri": "https://localhost:8080/"
        },
        "id": "t8GPMreS7tmK",
        "outputId": "5dc06bb6-3d8b-46be-b359-eb17c7ddcf1d"
      },
      "outputs": [
        {
          "output_type": "stream",
          "name": "stdout",
          "text": [
            "[[0, 6, 3, 4, 5], [1, 2, 3, 6, 7], [2, 2, 3, 7, 3], [4, 1, 3, 1, 4], [8, 9, 3, 2, 0]]\n"
          ]
        }
      ],
      "source": [
        "matrix_t = [[i[x] for i in matrix] for x in range(len(matrix[0]))]\n",
        "print(matrix_t)"
      ]
    }
  ],
  "metadata": {
    "kernelspec": {
      "display_name": "Python 3",
      "language": "python",
      "name": "python3"
    },
    "language_info": {
      "codemirror_mode": {
        "name": "ipython",
        "version": 3
      },
      "file_extension": ".py",
      "mimetype": "text/x-python",
      "name": "python",
      "nbconvert_exporter": "python",
      "pygments_lexer": "ipython3",
      "version": "3.9.0"
    },
    "colab": {
      "provenance": []
    }
  },
  "nbformat": 4,
  "nbformat_minor": 0
}
