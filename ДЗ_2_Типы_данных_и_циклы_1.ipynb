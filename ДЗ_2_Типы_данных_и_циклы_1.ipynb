{
  "nbformat": 4,
  "nbformat_minor": 0,
  "metadata": {
    "colab": {
      "provenance": [],
      "authorship_tag": "ABX9TyPdcfxxW0I9dnzlNGRToPwV"
    },
    "kernelspec": {
      "name": "python3",
      "display_name": "Python 3"
    },
    "language_info": {
      "name": "python"
    }
  },
  "cells": [
    {
      "cell_type": "markdown",
      "source": [
        "# Домашнее задание к лекции \"Введение в типы данных и циклы. Часть 1\""
      ],
      "metadata": {
        "id": "uz0z6_PvH4ej"
      }
    },
    {
      "cell_type": "markdown",
      "source": [
        "## Задание 1\n",
        "\n",
        "Дана переменная, в которой хранится слово из латинских букв. Напишите код, который выводит на экран:\n",
        "\n",
        "*   среднюю букву, если число букв в слове нечетное;\n",
        "*   две средних буквы, если число букв четное."
      ],
      "metadata": {
        "id": "ylGguv5XICir"
      }
    },
    {
      "cell_type": "code",
      "execution_count": null,
      "metadata": {
        "colab": {
          "base_uri": "https://localhost:8080/"
        },
        "id": "BwjpwgysH2IT",
        "outputId": "44f61a1a-156a-4af2-df5c-1b96ba931dc8"
      },
      "outputs": [
        {
          "output_type": "stream",
          "name": "stdout",
          "text": [
            "Результат:\n",
            "t\n"
          ]
        }
      ],
      "source": [
        "word = 'something'\n",
        "letters = len(word)\n",
        "\n",
        "# if letters % 2 != 0:\n",
        "#     print(f'Результат:\\n{word[letters // 2]}')\n",
        "# else:\n",
        "#     print(f'Результат:\\n{word[letters // 2 - 1:letters // 2 + 1]}')\n",
        "\n",
        "print(f'Результат:\\n{word[letters // 2]}') if letters % 2 != 0 else print(f'Результат:\\n{word[letters // 2 - 1:letters // 2 + 1]}')"
      ]
    },
    {
      "cell_type": "markdown",
      "source": [
        "## Задание 2\n",
        "\n",
        "Напишите программу, которая последовательно запрашивает у пользователя числа (по одному за раз) и после первого нуля выводит сумму всех ранее введенных чисел."
      ],
      "metadata": {
        "id": "b_bYghP-MHs7"
      }
    },
    {
      "cell_type": "code",
      "source": [
        "user_number = int(input('Введите число: '))\n",
        "final_number = 0\n",
        "\n",
        "while user_number != 0:\n",
        "    final_number += user_number\n",
        "    user_number = int(input('Введите число: '))\n",
        "else:\n",
        "    print(f'Результат:\\n{final_number}')"
      ],
      "metadata": {
        "colab": {
          "base_uri": "https://localhost:8080/"
        },
        "id": "JPrDakHyL3FX",
        "outputId": "52d85d1f-a1bc-45f2-ea51-6cc33083ab75"
      },
      "execution_count": null,
      "outputs": [
        {
          "output_type": "stream",
          "name": "stdout",
          "text": [
            "Введите число: 3\n",
            "Введите число: 0\n",
            "Результат:\n",
            "3\n"
          ]
        }
      ]
    },
    {
      "cell_type": "markdown",
      "source": [
        "## Задание 3\n",
        "\n",
        "Мы делаем MVP dating-сервиса, и у нас есть список парней и девушек.\n",
        "Выдвигаем гипотезу: лучшие рекомендации мы получим, если просто отсортируем имена по алфавиту и познакомим людей с одинаковыми индексами после сортировки! Но мы не будем никого знакомить, если кто-то может остаться без пары."
      ],
      "metadata": {
        "id": "hPn5rwFbRWNT"
      }
    },
    {
      "cell_type": "code",
      "source": [
        "boys = ['Peter', 'Alex', 'John', 'Arthur', 'Richard', 'Michael']\n",
        "girls = ['Kate', 'Liza', 'Kira', 'Emma', 'Trisha']\n",
        "\n",
        "if len(boys) == len(girls):\n",
        "    perfect_matches = list(zip(sorted(boys), sorted(girls)))\n",
        "    print('Идеальные пары:')\n",
        "    for b_name, g_name in perfect_matches:\n",
        "        print(f'{b_name} и {g_name}')\n",
        "else:\n",
        "    print('Внимание, кто-то может остаться без пары!')"
      ],
      "metadata": {
        "colab": {
          "base_uri": "https://localhost:8080/"
        },
        "id": "TNtoOdz-NfWy",
        "outputId": "73a92b12-6dc2-4f85-8a1a-b5840fe29810"
      },
      "execution_count": null,
      "outputs": [
        {
          "output_type": "stream",
          "name": "stdout",
          "text": [
            "Внимание, кто-то может остаться без пары!\n"
          ]
        }
      ]
    },
    {
      "cell_type": "markdown",
      "source": [
        "## Задание 4\n",
        "\n",
        "У нас есть список, содержащий информацию о среднедневной температуре в Фаренгейтах за произвольный период по странам. Необходимо написать код, который рассчитает среднюю температуру за период в Цельсиях(!) для каждой страны."
      ],
      "metadata": {
        "id": "j24WarvRZZQb"
      }
    },
    {
      "cell_type": "code",
      "source": [
        "countries_temperature = [\n",
        "    ['Таиланд', [75.2, 77, 78.8, 73.4, 68, 75.2, 77]],\n",
        "    ['Германия', [57.2, 55.4, 59, 59, 53.6]],\n",
        "    ['Россия', [35.6, 37.4, 39.2, 41, 42.8, 39.2, 35.6]],\n",
        "    ['Польша', [50, 50, 53.6, 57.2, 55.4, 55.4]]\n",
        "]\n",
        "\n",
        "print('Средняя температура в странах:')\n",
        "for country in countries_temperature:\n",
        "    avg_c_temp = (sum(country[1]) / len(country[1]) - 32) * 5 / 9\n",
        "    print(f'{country[0]} - {avg_c_temp:.1f} C')"
      ],
      "metadata": {
        "colab": {
          "base_uri": "https://localhost:8080/"
        },
        "id": "sctF59UiWMaD",
        "outputId": "fdd8c1f8-4516-4bcf-e29f-deb8fc2e8e9f"
      },
      "execution_count": null,
      "outputs": [
        {
          "output_type": "stream",
          "name": "stdout",
          "text": [
            "Средняя температура в странах:\n",
            "Таиланд - 23.9 C\n",
            "Германия - 13.8 C\n",
            "Россия - 3.7 C\n",
            "Польша - 12.0 C\n"
          ]
        }
      ]
    },
    {
      "cell_type": "markdown",
      "source": [
        "## Задание 5\n",
        "\n",
        "Имеется список с транспортными номерами. Необходимо написать код, который проверит каждый номер на валидность (1 буква, 3 цифры, 2 буквы, 2-3 цифры). Обратите внимание, что не все буквы кириллического алфавита используются в транспортных номерах.\n",
        "\n",
        "Если номер валиден, то вывести его в нужном формате, а если не валиден — вывести текст."
      ],
      "metadata": {
        "id": "9YEHp_rmisL3"
      }
    },
    {
      "cell_type": "code",
      "source": [
        "import re\n",
        "\n",
        "car_ids = ['А222ВС96', 'АБ22ВВ193']\n",
        "pattern_id = r'([АВЕКМНОРСТУХ]\\d{3}[АВЕКМНОРСТУХ]{2})(\\d{2,3})'\n",
        "\n",
        "for i in car_ids:\n",
        "    match_id = re.search(pattern_id, i)\n",
        "    if match_id:\n",
        "        print(f'Номер {match_id.group(1)} валиден. Регион: {match_id.group(2)}')\n",
        "    else:\n",
        "        print(f'Номер {i} не валиден')"
      ],
      "metadata": {
        "colab": {
          "base_uri": "https://localhost:8080/"
        },
        "id": "jZRSs75ufwnN",
        "outputId": "c1a1cdb3-82b4-4f61-9138-1ccb45d8fca6"
      },
      "execution_count": null,
      "outputs": [
        {
          "output_type": "stream",
          "name": "stdout",
          "text": [
            "Номер А222ВС валиден. Регион: 96\n",
            "Номер АБ22ВВ193 не валиден\n"
          ]
        }
      ]
    },
    {
      "cell_type": "markdown",
      "source": [
        "## Задание 6\n",
        "\n",
        "Дан поток логов по количеству просмотренных страниц для каждого пользователя (пользователь,дата;просмотры). Вам необходимо написать алгоритм, который считает среднее значение просмотров на пользователя. Т. е. надо посчитать отношение суммы всех просмотров к количеству уникальных пользователей."
      ],
      "metadata": {
        "id": "QXdqxhIariZV"
      }
    },
    {
      "cell_type": "code",
      "source": [
        "# stream = [\n",
        "#     'user4,2021-01-01;3',\n",
        "#     'user3,2022-01-07;4',\n",
        "#     'user2,2022-03-29;1',\n",
        "#     'user1,2020-04-04;13',\n",
        "#     'user2,2022-01-05;7',\n",
        "#     'user1,2021-06-14;4',\n",
        "#     'user3,2022-07-02;10',\n",
        "#     'user4,2021-03-21;19',\n",
        "#     'user4,2022-03-22;4',\n",
        "#     'user4,2022-04-22;8',\n",
        "#     'user4,2021-05-03;9',\n",
        "#     'user4,2022-05-11;11'\n",
        "# ]\n",
        "\n",
        "stream = [\n",
        "    'user100,2022-01-01;150',\n",
        "    'user99,2022-01-07;205',\n",
        "    'user1001,2022-03-29;81'\n",
        "]\n",
        "\n",
        "split_pattern = r'[,;]'\n",
        "all_users = []\n",
        "all_views = 0\n",
        "\n",
        "for i in stream:\n",
        "    data = re.split(split_pattern, i)\n",
        "    all_users.append(data[0])\n",
        "    all_views += int(data[2])\n",
        "\n",
        "unique_users = set(all_users)\n",
        "\n",
        "print(f'Среднее количество просмотров на уникального пользователя: {all_views / len(unique_users) :.2f}')"
      ],
      "metadata": {
        "colab": {
          "base_uri": "https://localhost:8080/"
        },
        "id": "xGRRcnezrTDh",
        "outputId": "7537e135-f601-4969-b005-47922f20a9e9"
      },
      "execution_count": null,
      "outputs": [
        {
          "output_type": "stream",
          "name": "stdout",
          "text": [
            "Среднее количество просмотров на уникального пользователя: 145.33\n"
          ]
        }
      ]
    }
  ]
}