{
  "nbformat": 4,
  "nbformat_minor": 0,
  "metadata": {
    "colab": {
      "provenance": [],
      "authorship_tag": "ABX9TyNVSetQL4DieAH1yTJyf0Ma"
    },
    "kernelspec": {
      "name": "python3",
      "display_name": "Python 3"
    },
    "language_info": {
      "name": "python"
    }
  },
  "cells": [
    {
      "cell_type": "markdown",
      "source": [
        "# Домашнее задание к лекции \"Работа с файловой системой и модули\""
      ],
      "metadata": {
        "id": "qTFeYmttLFr7"
      }
    },
    {
      "cell_type": "markdown",
      "source": [
        "## Задание 1\n",
        "\n",
        "Переведите содержимое файла purchase_log.txt в словарь purchases вида:\n",
        "{‘1840e0b9d4’: ‘Продукты’, …}"
      ],
      "metadata": {
        "id": "y7LzzMbaLRvu"
      }
    },
    {
      "cell_type": "code",
      "execution_count": 2,
      "metadata": {
        "colab": {
          "base_uri": "https://localhost:8080/"
        },
        "id": "HjQxZ_-WK4Cc",
        "outputId": "3b83af5c-4039-4979-9c5d-c97f425ef0d9"
      },
      "outputs": [
        {
          "output_type": "stream",
          "name": "stdout",
          "text": [
            "{\"user_id\": \"user_id\", \"category\": \"category\"}\n",
            "\n",
            "{\"user_id\": \"1840e0b9d4\", \"category\": \"Продукты\"}\n",
            "\n"
          ]
        }
      ],
      "source": [
        "import json\n",
        "\n",
        "purchases = {}\n",
        "\n",
        "f = open('purchase_log.txt', encoding='utf-8') # Смотрим структуру содержимого файла\n",
        "print(f.readline())\n",
        "print(next(f))\n",
        "\n",
        "f = open('purchase_log.txt', encoding='utf-8') # Наполняем словарь purchases данными по шаблону\n",
        "for line in f:\n",
        "    purchases.setdefault(json.loads(line.strip())['user_id'], json.loads(line.strip())['category'])"
      ]
    },
    {
      "cell_type": "markdown",
      "source": [
        "## Задание 2\n",
        "\n",
        "Для каждого user_id в файле visit_log.csv определите третий столбец с категорией покупки, если покупка была, сам файл visit_log.csv изменять не надо. Запишите в файл funnel.csv визиты из файла visit_log.csv, в которых были покупки с указанием категории."
      ],
      "metadata": {
        "id": "pcRiDgwomcpP"
      }
    },
    {
      "cell_type": "code",
      "source": [
        "f = open('visit_log.csv', encoding='utf-8') # Смотрим структуру содержимого файла\n",
        "print(f.readline())\n",
        "print(next(f))\n",
        "\n",
        "with open('visit_log.csv', encoding='utf-8') as f: # Записываем дополненные данные в файл funnel.csv\n",
        "    with open('funnel.csv', 'w', encoding='utf-8') as f_2:\n",
        "        for line in f:\n",
        "            if line.strip().split(',')[0] in purchases:\n",
        "                f_2.write(f\"{line.strip()},{purchases[line.strip().split(',')[0]]}\\n\")"
      ],
      "metadata": {
        "id": "00Y1tqz7aVEF",
        "colab": {
          "base_uri": "https://localhost:8080/"
        },
        "outputId": "fe715a2f-57f0-4a58-c815-1af3380e8517"
      },
      "execution_count": null,
      "outputs": [
        {
          "output_type": "stream",
          "name": "stdout",
          "text": [
            "user_id,source\n",
            "\n",
            "6450655ae8,other\n",
            "\n"
          ]
        }
      ]
    }
  ]
}