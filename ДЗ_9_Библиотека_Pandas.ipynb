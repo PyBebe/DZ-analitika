{
  "nbformat": 4,
  "nbformat_minor": 0,
  "metadata": {
    "colab": {
      "provenance": [],
      "authorship_tag": "ABX9TyO5TjGCSYXXFPDLMLsEXAeC"
    },
    "kernelspec": {
      "name": "python3",
      "display_name": "Python 3"
    },
    "language_info": {
      "name": "python"
    }
  },
  "cells": [
    {
      "cell_type": "markdown",
      "source": [
        "# Домашнее задание к лекции \"Библиотека Pandas\""
      ],
      "metadata": {
        "id": "Y6-ZdqxTT3_8"
      }
    },
    {
      "cell_type": "markdown",
      "source": [
        "## Задание 1\n",
        "\n",
        "Определите, какому фильму было выставлено больше всего оценок 5.0."
      ],
      "metadata": {
        "id": "tgD00z7qUaSI"
      }
    },
    {
      "cell_type": "code",
      "source": [
        "import pandas as pd\n",
        "\n",
        "data_1 = pd.read_csv('movies.csv') # Выгружаем датафреймы\n",
        "data_2 = pd.read_csv('ratings.csv')\n",
        "data_1.head() # Смотрим содержимое\n",
        "data_2.head()\n",
        "\n",
        "max_rate_data = data_2.query('rating == 5.0') # Фильтруем датафрейм с рейтингом фильмов по оценке 5.0\n",
        "max_rate_data['movieId'].value_counts().head(1) # Находим фильм с наибольшим количеством оценок 5.0"
      ],
      "metadata": {
        "colab": {
          "base_uri": "https://localhost:8080/",
          "height": 147
        },
        "id": "Wh3vx35SUgbe",
        "outputId": "15479511-e63e-4e19-e8eb-e4f1cb83d1da"
      },
      "execution_count": null,
      "outputs": [
        {
          "output_type": "execute_result",
          "data": {
            "text/plain": [
              "movieId\n",
              "318    153\n",
              "Name: count, dtype: int64"
            ],
            "text/html": [
              "<div>\n",
              "<style scoped>\n",
              "    .dataframe tbody tr th:only-of-type {\n",
              "        vertical-align: middle;\n",
              "    }\n",
              "\n",
              "    .dataframe tbody tr th {\n",
              "        vertical-align: top;\n",
              "    }\n",
              "\n",
              "    .dataframe thead th {\n",
              "        text-align: right;\n",
              "    }\n",
              "</style>\n",
              "<table border=\"1\" class=\"dataframe\">\n",
              "  <thead>\n",
              "    <tr style=\"text-align: right;\">\n",
              "      <th></th>\n",
              "      <th>count</th>\n",
              "    </tr>\n",
              "    <tr>\n",
              "      <th>movieId</th>\n",
              "      <th></th>\n",
              "    </tr>\n",
              "  </thead>\n",
              "  <tbody>\n",
              "    <tr>\n",
              "      <th>318</th>\n",
              "      <td>153</td>\n",
              "    </tr>\n",
              "  </tbody>\n",
              "</table>\n",
              "</div><br><label><b>dtype:</b> int64</label>"
            ]
          },
          "metadata": {},
          "execution_count": 30
        }
      ]
    },
    {
      "cell_type": "markdown",
      "source": [
        "## Задание 2\n",
        "\n",
        "По данным файла power.csv посчитайте суммарное потребление стран Прибалтики (Латвия, Литва и Эстония) категорий 4, 12 и 21 за период с 2005 по 2010 год. Не учитывайте в расчётах отрицательные значения quantity."
      ],
      "metadata": {
        "id": "VqIQ18JbkX4M"
      }
    },
    {
      "cell_type": "code",
      "execution_count": null,
      "metadata": {
        "colab": {
          "base_uri": "https://localhost:8080/"
        },
        "id": "_3tZEvW6THx5",
        "outputId": "dfb370b0-a226-42e7-e29c-df6326cc110b"
      },
      "outputs": [
        {
          "output_type": "execute_result",
          "data": {
            "text/plain": [
              "np.float64(240580.0)"
            ]
          },
          "metadata": {},
          "execution_count": 9
        }
      ],
      "source": [
        "import pandas as pd\n",
        "\n",
        "data_3 = pd.read_csv('power.csv')\n",
        "data_3.head()\n",
        "\n",
        "data_3[data_3['country'].str.contains('lat', case=False)]['country'].unique() # Проверяем варианты написания стран\n",
        "data_3[data_3['country'].str.contains('lit', case=False)]['country'].unique()\n",
        "data_3[data_3['country'].str.contains('es', case=False)]['country'].unique()\n",
        "\n",
        "#filtered_data = data_3.query('country in [\"Latvia\", \"Lithuania\", \"Estonia\"] and category in [4, 12, 21] and 2005 <= year <= 2010 and quantity > 0.0')\n",
        "filtered_data = data_3[data_3['country'].isin(['Latvia', 'Lithuania', 'Estonia']) & data_3['category'].isin([4, 12, 21]) & data_3['year'].between(2005, 2010) & (data_3['quantity'] > 0.0)]\n",
        "filtered_data['quantity'].sum()"
      ]
    },
    {
      "cell_type": "markdown",
      "source": [
        "## Задание 3\n",
        "\n",
        "Выберите страницу любого сайта с табличными данными. Импортируйте таблицы в pandas DataFrame. Вы можете взять любые страницы.\n",
        "Примеры страниц:\n",
        "\n",
        "https://fortrader.org/quotes;\n",
        "\n",
        "https://pythonworld.ru/tipy-dannyx-v-python/stroki-funkcii-i-metody-strok.html"
      ],
      "metadata": {
        "id": "LqrMvPvk61j8"
      }
    },
    {
      "cell_type": "code",
      "source": [
        "import pandas as pd\n",
        "\n",
        "new_data = pd.read_clipboard()\n",
        "new_data.head()"
      ],
      "metadata": {
        "id": "WSYjQ-aICBob"
      },
      "execution_count": null,
      "outputs": []
    },
    {
      "cell_type": "markdown",
      "source": [
        "В Колабе почему-то не работает клипборд, но в Юпитере у меня получилось.\n",
        "![Снимок экрана 2025-06-23 212435.png](data:image/png;base64,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)"
      ],
      "metadata": {
        "id": "S5fwm3pSCRtw"
      }
    },
    {
      "cell_type": "code",
      "source": [
        "import pandas as pd\n",
        "\n",
        "new_data_2 = pd.read_html('https://skyeng.ru/articles/vse-vremena-glagola-v-anglijskom-yazyke/')\n",
        "new_data_2[0]"
      ],
      "metadata": {
        "colab": {
          "base_uri": "https://localhost:8080/",
          "height": 244
        },
        "id": "482Tu8oidCOG",
        "outputId": "d14cbe2b-cc18-4d77-b67f-a2d96343d104"
      },
      "execution_count": null,
      "outputs": [
        {
          "output_type": "execute_result",
          "data": {
            "text/plain": [
              "                     Simple tenses (простые времена)  \\\n",
              "0                                   Past (прошедшее)   \n",
              "1  глагол во 2-й форме  (правильный глагол + -ed ...   \n",
              "2                       Time markers (слова-маркеры)   \n",
              "3  yesterday; last (week, month, year); (a week, ...   \n",
              "\n",
              "                   Simple tenses (простые времена).1  \\\n",
              "0                                Present (настоящее)   \n",
              "1  1-я форма глагола  (he, she, it → глагол + -s)...   \n",
              "2                       Time markers (слова-маркеры)   \n",
              "3  every (day, weekend, Monday); always; often; s...   \n",
              "\n",
              "                   Simple tenses (простые времена).2  \n",
              "0                                   Future (будущее)  \n",
              "1  will + глагол  I will (’ll) study English.  I ...  \n",
              "2                       Time markers (слова-маркеры)  \n",
              "3  tomorrow; next (week, month, year); this (week...  "
            ],
            "text/html": [
              "\n",
              "  <div id=\"df-9ad7743d-afb6-423b-a81c-6d21a118bb1f\" class=\"colab-df-container\">\n",
              "    <div>\n",
              "<style scoped>\n",
              "    .dataframe tbody tr th:only-of-type {\n",
              "        vertical-align: middle;\n",
              "    }\n",
              "\n",
              "    .dataframe tbody tr th {\n",
              "        vertical-align: top;\n",
              "    }\n",
              "\n",
              "    .dataframe thead th {\n",
              "        text-align: right;\n",
              "    }\n",
              "</style>\n",
              "<table border=\"1\" class=\"dataframe\">\n",
              "  <thead>\n",
              "    <tr style=\"text-align: right;\">\n",
              "      <th></th>\n",
              "      <th>Simple tenses (простые времена)</th>\n",
              "      <th>Simple tenses (простые времена).1</th>\n",
              "      <th>Simple tenses (простые времена).2</th>\n",
              "    </tr>\n",
              "  </thead>\n",
              "  <tbody>\n",
              "    <tr>\n",
              "      <th>0</th>\n",
              "      <td>Past (прошедшее)</td>\n",
              "      <td>Present (настоящее)</td>\n",
              "      <td>Future (будущее)</td>\n",
              "    </tr>\n",
              "    <tr>\n",
              "      <th>1</th>\n",
              "      <td>глагол во 2-й форме  (правильный глагол + -ed ...</td>\n",
              "      <td>1-я форма глагола  (he, she, it → глагол + -s)...</td>\n",
              "      <td>will + глагол  I will (’ll) study English.  I ...</td>\n",
              "    </tr>\n",
              "    <tr>\n",
              "      <th>2</th>\n",
              "      <td>Time markers (слова-маркеры)</td>\n",
              "      <td>Time markers (слова-маркеры)</td>\n",
              "      <td>Time markers (слова-маркеры)</td>\n",
              "    </tr>\n",
              "    <tr>\n",
              "      <th>3</th>\n",
              "      <td>yesterday; last (week, month, year); (a week, ...</td>\n",
              "      <td>every (day, weekend, Monday); always; often; s...</td>\n",
              "      <td>tomorrow; next (week, month, year); this (week...</td>\n",
              "    </tr>\n",
              "  </tbody>\n",
              "</table>\n",
              "</div>\n",
              "    <div class=\"colab-df-buttons\">\n",
              "\n",
              "  <div class=\"colab-df-container\">\n",
              "    <button class=\"colab-df-convert\" onclick=\"convertToInteractive('df-9ad7743d-afb6-423b-a81c-6d21a118bb1f')\"\n",
              "            title=\"Convert this dataframe to an interactive table.\"\n",
              "            style=\"display:none;\">\n",
              "\n",
              "  <svg xmlns=\"http://www.w3.org/2000/svg\" height=\"24px\" viewBox=\"0 -960 960 960\">\n",
              "    <path d=\"M120-120v-720h720v720H120Zm60-500h600v-160H180v160Zm220 220h160v-160H400v160Zm0 220h160v-160H400v160ZM180-400h160v-160H180v160Zm440 0h160v-160H620v160ZM180-180h160v-160H180v160Zm440 0h160v-160H620v160Z\"/>\n",
              "  </svg>\n",
              "    </button>\n",
              "\n",
              "  <style>\n",
              "    .colab-df-container {\n",
              "      display:flex;\n",
              "      gap: 12px;\n",
              "    }\n",
              "\n",
              "    .colab-df-convert {\n",
              "      background-color: #E8F0FE;\n",
              "      border: none;\n",
              "      border-radius: 50%;\n",
              "      cursor: pointer;\n",
              "      display: none;\n",
              "      fill: #1967D2;\n",
              "      height: 32px;\n",
              "      padding: 0 0 0 0;\n",
              "      width: 32px;\n",
              "    }\n",
              "\n",
              "    .colab-df-convert:hover {\n",
              "      background-color: #E2EBFA;\n",
              "      box-shadow: 0px 1px 2px rgba(60, 64, 67, 0.3), 0px 1px 3px 1px rgba(60, 64, 67, 0.15);\n",
              "      fill: #174EA6;\n",
              "    }\n",
              "\n",
              "    .colab-df-buttons div {\n",
              "      margin-bottom: 4px;\n",
              "    }\n",
              "\n",
              "    [theme=dark] .colab-df-convert {\n",
              "      background-color: #3B4455;\n",
              "      fill: #D2E3FC;\n",
              "    }\n",
              "\n",
              "    [theme=dark] .colab-df-convert:hover {\n",
              "      background-color: #434B5C;\n",
              "      box-shadow: 0px 1px 3px 1px rgba(0, 0, 0, 0.15);\n",
              "      filter: drop-shadow(0px 1px 2px rgba(0, 0, 0, 0.3));\n",
              "      fill: #FFFFFF;\n",
              "    }\n",
              "  </style>\n",
              "\n",
              "    <script>\n",
              "      const buttonEl =\n",
              "        document.querySelector('#df-9ad7743d-afb6-423b-a81c-6d21a118bb1f button.colab-df-convert');\n",
              "      buttonEl.style.display =\n",
              "        google.colab.kernel.accessAllowed ? 'block' : 'none';\n",
              "\n",
              "      async function convertToInteractive(key) {\n",
              "        const element = document.querySelector('#df-9ad7743d-afb6-423b-a81c-6d21a118bb1f');\n",
              "        const dataTable =\n",
              "          await google.colab.kernel.invokeFunction('convertToInteractive',\n",
              "                                                    [key], {});\n",
              "        if (!dataTable) return;\n",
              "\n",
              "        const docLinkHtml = 'Like what you see? Visit the ' +\n",
              "          '<a target=\"_blank\" href=https://colab.research.google.com/notebooks/data_table.ipynb>data table notebook</a>'\n",
              "          + ' to learn more about interactive tables.';\n",
              "        element.innerHTML = '';\n",
              "        dataTable['output_type'] = 'display_data';\n",
              "        await google.colab.output.renderOutput(dataTable, element);\n",
              "        const docLink = document.createElement('div');\n",
              "        docLink.innerHTML = docLinkHtml;\n",
              "        element.appendChild(docLink);\n",
              "      }\n",
              "    </script>\n",
              "  </div>\n",
              "\n",
              "\n",
              "    <div id=\"df-d54b2225-84e9-4f16-951b-e0e8ba7254a8\">\n",
              "      <button class=\"colab-df-quickchart\" onclick=\"quickchart('df-d54b2225-84e9-4f16-951b-e0e8ba7254a8')\"\n",
              "                title=\"Suggest charts\"\n",
              "                style=\"display:none;\">\n",
              "\n",
              "<svg xmlns=\"http://www.w3.org/2000/svg\" height=\"24px\"viewBox=\"0 0 24 24\"\n",
              "     width=\"24px\">\n",
              "    <g>\n",
              "        <path d=\"M19 3H5c-1.1 0-2 .9-2 2v14c0 1.1.9 2 2 2h14c1.1 0 2-.9 2-2V5c0-1.1-.9-2-2-2zM9 17H7v-7h2v7zm4 0h-2V7h2v10zm4 0h-2v-4h2v4z\"/>\n",
              "    </g>\n",
              "</svg>\n",
              "      </button>\n",
              "\n",
              "<style>\n",
              "  .colab-df-quickchart {\n",
              "      --bg-color: #E8F0FE;\n",
              "      --fill-color: #1967D2;\n",
              "      --hover-bg-color: #E2EBFA;\n",
              "      --hover-fill-color: #174EA6;\n",
              "      --disabled-fill-color: #AAA;\n",
              "      --disabled-bg-color: #DDD;\n",
              "  }\n",
              "\n",
              "  [theme=dark] .colab-df-quickchart {\n",
              "      --bg-color: #3B4455;\n",
              "      --fill-color: #D2E3FC;\n",
              "      --hover-bg-color: #434B5C;\n",
              "      --hover-fill-color: #FFFFFF;\n",
              "      --disabled-bg-color: #3B4455;\n",
              "      --disabled-fill-color: #666;\n",
              "  }\n",
              "\n",
              "  .colab-df-quickchart {\n",
              "    background-color: var(--bg-color);\n",
              "    border: none;\n",
              "    border-radius: 50%;\n",
              "    cursor: pointer;\n",
              "    display: none;\n",
              "    fill: var(--fill-color);\n",
              "    height: 32px;\n",
              "    padding: 0;\n",
              "    width: 32px;\n",
              "  }\n",
              "\n",
              "  .colab-df-quickchart:hover {\n",
              "    background-color: var(--hover-bg-color);\n",
              "    box-shadow: 0 1px 2px rgba(60, 64, 67, 0.3), 0 1px 3px 1px rgba(60, 64, 67, 0.15);\n",
              "    fill: var(--button-hover-fill-color);\n",
              "  }\n",
              "\n",
              "  .colab-df-quickchart-complete:disabled,\n",
              "  .colab-df-quickchart-complete:disabled:hover {\n",
              "    background-color: var(--disabled-bg-color);\n",
              "    fill: var(--disabled-fill-color);\n",
              "    box-shadow: none;\n",
              "  }\n",
              "\n",
              "  .colab-df-spinner {\n",
              "    border: 2px solid var(--fill-color);\n",
              "    border-color: transparent;\n",
              "    border-bottom-color: var(--fill-color);\n",
              "    animation:\n",
              "      spin 1s steps(1) infinite;\n",
              "  }\n",
              "\n",
              "  @keyframes spin {\n",
              "    0% {\n",
              "      border-color: transparent;\n",
              "      border-bottom-color: var(--fill-color);\n",
              "      border-left-color: var(--fill-color);\n",
              "    }\n",
              "    20% {\n",
              "      border-color: transparent;\n",
              "      border-left-color: var(--fill-color);\n",
              "      border-top-color: var(--fill-color);\n",
              "    }\n",
              "    30% {\n",
              "      border-color: transparent;\n",
              "      border-left-color: var(--fill-color);\n",
              "      border-top-color: var(--fill-color);\n",
              "      border-right-color: var(--fill-color);\n",
              "    }\n",
              "    40% {\n",
              "      border-color: transparent;\n",
              "      border-right-color: var(--fill-color);\n",
              "      border-top-color: var(--fill-color);\n",
              "    }\n",
              "    60% {\n",
              "      border-color: transparent;\n",
              "      border-right-color: var(--fill-color);\n",
              "    }\n",
              "    80% {\n",
              "      border-color: transparent;\n",
              "      border-right-color: var(--fill-color);\n",
              "      border-bottom-color: var(--fill-color);\n",
              "    }\n",
              "    90% {\n",
              "      border-color: transparent;\n",
              "      border-bottom-color: var(--fill-color);\n",
              "    }\n",
              "  }\n",
              "</style>\n",
              "\n",
              "      <script>\n",
              "        async function quickchart(key) {\n",
              "          const quickchartButtonEl =\n",
              "            document.querySelector('#' + key + ' button');\n",
              "          quickchartButtonEl.disabled = true;  // To prevent multiple clicks.\n",
              "          quickchartButtonEl.classList.add('colab-df-spinner');\n",
              "          try {\n",
              "            const charts = await google.colab.kernel.invokeFunction(\n",
              "                'suggestCharts', [key], {});\n",
              "          } catch (error) {\n",
              "            console.error('Error during call to suggestCharts:', error);\n",
              "          }\n",
              "          quickchartButtonEl.classList.remove('colab-df-spinner');\n",
              "          quickchartButtonEl.classList.add('colab-df-quickchart-complete');\n",
              "        }\n",
              "        (() => {\n",
              "          let quickchartButtonEl =\n",
              "            document.querySelector('#df-d54b2225-84e9-4f16-951b-e0e8ba7254a8 button');\n",
              "          quickchartButtonEl.style.display =\n",
              "            google.colab.kernel.accessAllowed ? 'block' : 'none';\n",
              "        })();\n",
              "      </script>\n",
              "    </div>\n",
              "    </div>\n",
              "  </div>\n"
            ],
            "application/vnd.google.colaboratory.intrinsic+json": {
              "type": "dataframe",
              "summary": "{\n  \"name\": \"new_data_2[0]\",\n  \"rows\": 4,\n  \"fields\": [\n    {\n      \"column\": \"Simple tenses (\\u043f\\u0440\\u043e\\u0441\\u0442\\u044b\\u0435 \\u0432\\u0440\\u0435\\u043c\\u0435\\u043d\\u0430)\",\n      \"properties\": {\n        \"dtype\": \"string\",\n        \"num_unique_values\": 4,\n        \"samples\": [\n          \"\\u0433\\u043b\\u0430\\u0433\\u043e\\u043b \\u0432\\u043e 2-\\u0439 \\u0444\\u043e\\u0440\\u043c\\u0435  (\\u043f\\u0440\\u0430\\u0432\\u0438\\u043b\\u044c\\u043d\\u044b\\u0439 \\u0433\\u043b\\u0430\\u0433\\u043e\\u043b + -ed \\u0438\\u043b\\u0438 \\u043d\\u0435\\u043f\\u0440\\u0430\\u0432\\u0438\\u043b\\u044c\\u043d\\u044b\\u0439 \\u0433\\u043b\\u0430\\u0433\\u043e\\u043b)  I studied English.  I did not (didn\\u2019t) study English.  Did I study English?\",\n          \"yesterday; last (week, month, year); (a week, a month, three years) ago\",\n          \"Past (\\u043f\\u0440\\u043e\\u0448\\u0435\\u0434\\u0448\\u0435\\u0435)\"\n        ],\n        \"semantic_type\": \"\",\n        \"description\": \"\"\n      }\n    },\n    {\n      \"column\": \"Simple tenses (\\u043f\\u0440\\u043e\\u0441\\u0442\\u044b\\u0435 \\u0432\\u0440\\u0435\\u043c\\u0435\\u043d\\u0430).1\",\n      \"properties\": {\n        \"dtype\": \"string\",\n        \"num_unique_values\": 4,\n        \"samples\": [\n          \"1-\\u044f \\u0444\\u043e\\u0440\\u043c\\u0430 \\u0433\\u043b\\u0430\\u0433\\u043e\\u043b\\u0430  (he, she, it \\u2192 \\u0433\\u043b\\u0430\\u0433\\u043e\\u043b + -s)  I study English. / He studies English.  We do not (don\\u2019t) study English. / She does not (doesn\\u2019t) study English.  Do you study English? / Does he study English?\",\n          \"every (day, weekend, Monday); always; often; sometimes; twice a week\",\n          \"Present (\\u043d\\u0430\\u0441\\u0442\\u043e\\u044f\\u0449\\u0435\\u0435)\"\n        ],\n        \"semantic_type\": \"\",\n        \"description\": \"\"\n      }\n    },\n    {\n      \"column\": \"Simple tenses (\\u043f\\u0440\\u043e\\u0441\\u0442\\u044b\\u0435 \\u0432\\u0440\\u0435\\u043c\\u0435\\u043d\\u0430).2\",\n      \"properties\": {\n        \"dtype\": \"string\",\n        \"num_unique_values\": 4,\n        \"samples\": [\n          \"will + \\u0433\\u043b\\u0430\\u0433\\u043e\\u043b  I will (\\u2019ll) study English.  I will not (won\\u2019t) study English.  Will I study English?\",\n          \"tomorrow; next (week, month, year); this (week, month, year); someday; in the future\",\n          \"Future (\\u0431\\u0443\\u0434\\u0443\\u0449\\u0435\\u0435)\"\n        ],\n        \"semantic_type\": \"\",\n        \"description\": \"\"\n      }\n    }\n  ]\n}"
            }
          },
          "metadata": {},
          "execution_count": 26
        }
      ]
    }
  ]
}