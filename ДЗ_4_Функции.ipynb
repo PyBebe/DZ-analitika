{
  "cells": [
    {
      "cell_type": "markdown",
      "metadata": {
        "id": "Vj6t52GCXHV9"
      },
      "source": [
        "# Домашнее задание к лекции \"Функции\"\n",
        "\n",
        "Вам нужно помочь секретарю автоматизировать работу. Для этого нужно написать программу, которая будет на основе хранимых данных исполнять пользовательские команды.\n",
        "\n",
        "Общие требования к программе:\n",
        "\n",
        "*   код должен быть грамотно декомпозирован (каждая функция отвечает за свою конкретную задачу, дублирующийся функционал переиспользуется, а его код не повторяется);\n",
        "*   в коде отсутствуют глобальные переменные (за исключением documents и directories);\n",
        "*   пользовательский ввод обрабатывается в цикле while до тех пор, пока пользователь явно не завершит программу (вводом команды \"q\")."
      ]
    },
    {
      "cell_type": "code",
      "execution_count": null,
      "metadata": {
        "colab": {
          "base_uri": "https://localhost:8080/"
        },
        "id": "6_wSPO32aQev",
        "outputId": "dcd8c36a-8234-4dcb-c572-d404c415fef0"
      },
      "outputs": [
        {
          "output_type": "stream",
          "name": "stdout",
          "text": [
            "Введите команду: d\n",
            "Введите номер документа: 10006\n",
            "Документ удален.\n",
            "Текущий список документов:\n",
            "№: 2207 876234, тип: passport, владелец: Василий Гупкин, полка хранения: 1\n",
            "№: 11-2, тип: invoice, владелец: Геннадий Покемонов, полка хранения: 1\n",
            "Введите команду: q\n",
            "Сеанс завершен. До свидания!\n"
          ]
        }
      ],
      "source": [
        "documents = [\n",
        "    {'type': 'passport', 'number': '2207 876234', 'name': 'Василий Гупкин'},\n",
        "    {'type': 'invoice', 'number': '11-2', 'name': 'Геннадий Покемонов'},\n",
        "    {'type': 'insurance', 'number': '10006', 'name': 'Аристарх Павлов'}\n",
        "]\n",
        "\n",
        "directories = {\n",
        "    '1': ['2207 876234', '11-2'],\n",
        "    '2': ['10006'],\n",
        "    '3': []\n",
        "}\n",
        "\n",
        "def get_current_shelves():\n",
        "    result = ', '.join(list(directories.keys()))\n",
        "    return result\n",
        "\n",
        "def main():\n",
        "\n",
        "    \"\"\"Вас приветствует Ассистент секретаря!\n",
        "\n",
        "     Доступные команды:\n",
        "  l - получение детальной информации по всем документам;\n",
        "  p - поиск владельца документа по его номеру;\n",
        "  s - поиск полки с документом по его номеру;\n",
        "  ad - добавление нового документа в базу данных;\n",
        "  m - перемещение документа на другую полку;\n",
        "  d - удаление документа из базы данных;\n",
        "  ads - добавление новой полки;\n",
        "  ds - удаление пустой полки;\n",
        "  q - выход из программы.\"\"\"\n",
        "\n",
        "    while command := input('Введите команду: ').lower():\n",
        "        match command:\n",
        "            case 'l':\n",
        "                get_docs_info()\n",
        "            case 'p':\n",
        "                find_owner()\n",
        "            case 's':\n",
        "                find_shelf()\n",
        "            case 'ad':\n",
        "                add_doc()\n",
        "            case 'm':\n",
        "                move_doc()\n",
        "            case 'd':\n",
        "                delete_doc()\n",
        "            case 'ads':\n",
        "                add_shelf()\n",
        "            case 'ds':\n",
        "                delete_shelf()\n",
        "            case 'q':\n",
        "                print('Сеанс завершен. До свидания!')\n",
        "                break\n",
        "\n",
        "main()"
      ]
    },
    {
      "cell_type": "markdown",
      "metadata": {
        "id": "or4poKAsZqv-"
      },
      "source": [
        "## Задание 1"
      ]
    },
    {
      "cell_type": "markdown",
      "metadata": {
        "id": "2wNbaBXbqgHu"
      },
      "source": [
        "### Пункт 1. Пользователь по команде \"p\" может узнать владельца документа по его номеру"
      ]
    },
    {
      "cell_type": "code",
      "execution_count": null,
      "metadata": {
        "id": "-ThBJSyqW3Li"
      },
      "outputs": [],
      "source": [
        "def find_owner():\n",
        "    doc_number = input('Введите номер документа: ')\n",
        "    for doc in documents:\n",
        "        if doc_number in doc.values():\n",
        "            print(f\"Владелец документа: {doc['name']}\")\n",
        "            break\n",
        "    else:\n",
        "        print('Документ не найден в базе')"
      ]
    },
    {
      "cell_type": "markdown",
      "metadata": {
        "id": "xR0vRiC5qJX9"
      },
      "source": [
        "### Пункт 2. Пользователь по команде \"s\" может по номеру документа узнать на какой полке он хранится"
      ]
    },
    {
      "cell_type": "code",
      "execution_count": null,
      "metadata": {
        "id": "7IWVh4L1qasL"
      },
      "outputs": [],
      "source": [
        "def find_shelf():\n",
        "    doc_number = input('Введите номер документа: ')\n",
        "    for direct in directories.items():\n",
        "        if doc_number in direct[1]:\n",
        "            print(f'Документ хранится на полке: {direct[0]}')\n",
        "            break\n",
        "    else:\n",
        "        print('Документ не найден в базе')"
      ]
    },
    {
      "cell_type": "markdown",
      "metadata": {
        "id": "FGYvJAZSzqCQ"
      },
      "source": [
        "### Пункт 3. Пользователь по команде \"l\" может увидеть полную информацию по всем документам"
      ]
    },
    {
      "cell_type": "code",
      "execution_count": null,
      "metadata": {
        "id": "76GAYpe7z1K3"
      },
      "outputs": [],
      "source": [
        "def get_docs_info():\n",
        "    for doc in documents:\n",
        "        for direct in directories.items():\n",
        "            if doc['number'] in direct[1]:\n",
        "                print(f\"№: {doc['number']}, тип: {doc['type']}, владелец: {doc['name']}, полка хранения: {direct[0]}\")\n",
        "                break"
      ]
    },
    {
      "cell_type": "markdown",
      "metadata": {
        "id": "k9JtEPWO_pw5"
      },
      "source": [
        "### Пункт 4. Пользователь по команде \"ads\" может добавить новую полку"
      ]
    },
    {
      "cell_type": "code",
      "execution_count": null,
      "metadata": {
        "id": "ONZhx-Ev_vm8"
      },
      "outputs": [],
      "source": [
        "def add_shelf():\n",
        "    new_shelf = input('Введите номер полки: ')\n",
        "    if new_shelf in directories:\n",
        "        print(f\"Такая полка уже существует. Текущий перечень полок: {get_current_shelves()}.\")\n",
        "    else:\n",
        "        directories[new_shelf] = []\n",
        "        print(f\"Полка добавлена. Текущий перечень полок: {get_current_shelves()}.\")"
      ]
    },
    {
      "cell_type": "markdown",
      "metadata": {
        "id": "Cit3zpGWF1sN"
      },
      "source": [
        "### Пункт 5. Пользователь по команде \"ds\" может удалить существующую полку из данных (только если она пустая)"
      ]
    },
    {
      "cell_type": "code",
      "execution_count": null,
      "metadata": {
        "id": "dMImM0V6GAEM"
      },
      "outputs": [],
      "source": [
        "def delete_shelf():\n",
        "    shelf_number = input('Введите номер полки: ')\n",
        "    result = directories.get(shelf_number, 'None')\n",
        "    if result == 'None':\n",
        "        print(f\"Такой полки не существует. Текущий перечень полок: {get_current_shelves()}.\")\n",
        "    elif len(result) == 0:\n",
        "        del(directories[shelf_number])\n",
        "        print(f\"Полка удалена. Текущий перечень полок: {get_current_shelves()}.\")\n",
        "    else:\n",
        "        print(f\"На полке есть документы, удалите их перед удалением полки. Текущий перечень полок: {get_current_shelves()}.\")"
      ]
    },
    {
      "cell_type": "markdown",
      "source": [
        "## Задание 2\n",
        "\n",
        "Вам необходимо дополнить программу из задания 1 более продвинутыми командами."
      ],
      "metadata": {
        "id": "SI95IK0JK-YK"
      }
    },
    {
      "cell_type": "markdown",
      "source": [
        "### Пункт 1. Пользователь по команде \"ad\" может добавить новый документ в данные"
      ],
      "metadata": {
        "id": "0tYr-8J4MLIH"
      }
    },
    {
      "cell_type": "code",
      "source": [
        "def add_doc():\n",
        "    doc = {}\n",
        "    doc['number'] = input('Введите номер документа: ')\n",
        "    doc['type'] = input('Введите тип документа: ')\n",
        "    doc['name'] = input('Введите владельца документа: ')\n",
        "    shelf_number = input('Введите полку для хранения: ')\n",
        "    result = directories.get(shelf_number, 'None')\n",
        "    if result == 'None':\n",
        "        print('Такой полки не существует. Добавьте полку командой as.')\n",
        "        print('Текущий список документов:')\n",
        "        get_docs_info()\n",
        "    else:\n",
        "        documents.append(doc)\n",
        "        directories[shelf_number].append(doc['number'])\n",
        "        print('Документ добавлен. Текущий список документов:')\n",
        "        get_docs_info()"
      ],
      "metadata": {
        "id": "y6_fYSj6MOVQ"
      },
      "execution_count": null,
      "outputs": []
    },
    {
      "cell_type": "markdown",
      "source": [
        "### Пункт 2. Пользователь по команде \"d\" может удалить документ из данных"
      ],
      "metadata": {
        "id": "v3sXErQVTIJ-"
      }
    },
    {
      "cell_type": "code",
      "source": [
        "def delete_doc():\n",
        "    doc_number = input('Введите номер документа: ')\n",
        "    if doc_number in sum(directories.values(), []):\n",
        "        for doc in documents:\n",
        "            if doc['number'] == doc_number:\n",
        "                documents.remove(doc)\n",
        "                break\n",
        "        for direct in directories.items():\n",
        "            if doc_number in direct[1]:\n",
        "                directories[direct[0]].remove(doc_number)\n",
        "                break\n",
        "        print('Документ удален.')\n",
        "        print('Текущий список документов:')\n",
        "        get_docs_info()\n",
        "    else:\n",
        "        print('Документ не найден в базе.')\n",
        "        print('Текущий список документов:')\n",
        "        get_docs_info()"
      ],
      "metadata": {
        "id": "lsjVEA09TLRK"
      },
      "execution_count": null,
      "outputs": []
    },
    {
      "cell_type": "markdown",
      "source": [
        "### Пункт 3. Пользователь по команде \"m\" может переместить документ с полки на полку"
      ],
      "metadata": {
        "id": "fp3ArhbmRB6W"
      }
    },
    {
      "cell_type": "code",
      "source": [
        "def move_doc():\n",
        "    doc_number = input('Введите номер документа: ')\n",
        "    shelf_number = input('Введите номер полки: ')\n",
        "    result = directories.get(shelf_number, 'None')\n",
        "    if result == 'None':\n",
        "        print(f\"Такой полки не существует. Текущий перечень полок: {get_current_shelves()}.\")\n",
        "    else:\n",
        "        for direct in directories.items():\n",
        "            if doc_number in direct[1]:\n",
        "                directories[direct[0]].remove(doc_number)\n",
        "                directories[shelf_number].append(doc_number)\n",
        "                print('Документ перемещен.')\n",
        "                print('Текущий список документов:')\n",
        "                get_docs_info()\n",
        "                break\n",
        "        else:\n",
        "            print('Документ не найден в базе.')\n",
        "            print('Текущий список документов:')\n",
        "            get_docs_info()"
      ],
      "metadata": {
        "id": "Z-FZzX1hREmu"
      },
      "execution_count": null,
      "outputs": []
    },
    {
      "cell_type": "markdown",
      "source": [
        "## Задание 3\n",
        "\n",
        "Напишите функцию, которая будет возвращать акроним по переданной в неё строке со словами.\n",
        "\n",
        "Примеры работы программы:\n",
        "\n",
        "some_words = 'Информационные технологии’\n",
        "\n",
        "Результат: ИТ\n",
        "\n",
        "some_words = 'Near Field Communication’\n",
        "\n",
        "Результат: NFC"
      ],
      "metadata": {
        "id": "4Y5nYUFRJkjA"
      }
    },
    {
      "cell_type": "code",
      "source": [
        "import re\n",
        "\n",
        "def acronym(some_words):\n",
        "    acronym = re.sub(r'([A-ZА-Я])\\w*\\s?', r'\\1', some_words.title())\n",
        "    return acronym\n",
        "\n",
        "print(acronym('Информационные технологии'))\n",
        "print(acronym('Near Field Communication'))"
      ],
      "metadata": {
        "colab": {
          "base_uri": "https://localhost:8080/"
        },
        "id": "j3LQzuRNJt9E",
        "outputId": "65fbba7c-330e-4042-f853-90fb69357eaf"
      },
      "execution_count": 1,
      "outputs": [
        {
          "output_type": "stream",
          "name": "stdout",
          "text": [
            "ИТ\n",
            "NFC\n"
          ]
        }
      ]
    },
    {
      "cell_type": "markdown",
      "source": [
        "## Задание 4\n",
        "\n",
        "Напишите функцию, которая будет подсчитывать, сколько слов начинается на гласные, а сколько на согласные буквы в тексте. Текст может быть написан с использованием букв как кириллицы, так и латиницы.\n",
        "\n",
        "Пример работы программы:\n",
        "\n",
        "some_text = ‘Эталонной реализацией Python является интерпретатор CPython, поддерживающий большинство активно используемых платформ. Он распространяется под свободной лицензией Python Software Foundation License, позволяющей использовать его без ограничений в любых приложениях, включая проприетарные.’\n",
        "\n",
        "Результат:\n",
        "\n",
        "Слов на гласные буквы: 9\n",
        "\n",
        "Слов на согласные буквы: 21"
      ],
      "metadata": {
        "id": "EjRcrTJsKE_H"
      }
    },
    {
      "cell_type": "code",
      "source": [
        "import re\n",
        "\n",
        "some_text = '''\n",
        "Эталонной реализацией Python является интерпретатор CPython,\n",
        "поддерживающий большинство активно используемых платформ.\n",
        "Он распространяется под свободной лицензией Python Software Foundation License,\n",
        "позволяющей использовать его без ограничений в любых приложениях, включая проприетарные.\n",
        "'''\n",
        "\n",
        "def vowel_cons(some_text: str) -> list:\n",
        "    vowels = len(re.findall(r'\\b[aeiouyАЕЁИОУЫЭЮЯ]\\w*\\b', some_text, flags=re.IGNORECASE))\n",
        "    cons = len(some_text.split()) - vowels\n",
        "    return [vowels, cons]\n",
        "\n",
        "print('Слов на гласные буквы:', vowel_cons(some_text)[0], '\\nСлов на согласные буквы:', vowel_cons(some_text)[1])"
      ],
      "metadata": {
        "colab": {
          "base_uri": "https://localhost:8080/"
        },
        "id": "tLIi_wV7KfsO",
        "outputId": "6a0fd200-39cf-417f-caa3-125d4c9cca41"
      },
      "execution_count": 2,
      "outputs": [
        {
          "output_type": "stream",
          "name": "stdout",
          "text": [
            "Слов на гласные буквы: 9 \n",
            "Слов на согласные буквы: 21\n"
          ]
        }
      ]
    },
    {
      "cell_type": "markdown",
      "source": [
        "## Задание 5\n",
        "\n",
        "Напишите функцию, которая будет принимать на вход список email-адресов и выводить их распределение по доменным зонам.\n",
        "\n",
        "Пример работы программы:\n",
        "\n",
        "emails = [‘test@gmail.com’, ‘xyz@test.in’, ‘test@ya.ru’, ‘xyz@mail.ru’, ‘xyz@ya.ru’, ‘xyz@gmail.com’]\n",
        "\n",
        "Результат:\n",
        "\n",
        "gmail.com 2\n",
        "\n",
        "test.in 1\n",
        "\n",
        "ya.ru 2\n",
        "\n",
        "mail.ru 1"
      ],
      "metadata": {
        "id": "BymOeeeXLC2d"
      }
    },
    {
      "cell_type": "code",
      "source": [
        "import re\n",
        "\n",
        "emails = ['test@gmail.com', 'xyz@test.in', 'test@ya.ru', 'xyz@mail.ru', 'xyz@ya.ru', 'xyz@gmail.com']\n",
        "\n",
        "def counting(emails: list) -> dict:\n",
        "    dic = {}\n",
        "    for email in emails:\n",
        "        dic[re.search(r'\\w+\\.\\w{2,3}', email).group()] = dic.get(re.search(r'\\w+\\.\\w{2,3}', email).group(), 0) + 1\n",
        "    return dic\n",
        "\n",
        "for k, v in counting(emails).items():\n",
        "    print(k, v)"
      ],
      "metadata": {
        "colab": {
          "base_uri": "https://localhost:8080/"
        },
        "id": "EBTuHe3ILRuA",
        "outputId": "a3f55b5f-9c60-4573-87de-8732f20dc65c"
      },
      "execution_count": 3,
      "outputs": [
        {
          "output_type": "stream",
          "name": "stdout",
          "text": [
            "gmail.com 2\n",
            "test.in 1\n",
            "ya.ru 2\n",
            "mail.ru 1\n"
          ]
        }
      ]
    }
  ],
  "metadata": {
    "colab": {
      "provenance": [],
      "authorship_tag": "ABX9TyO6niVB4MxC6fxvslTF9kYw"
    },
    "kernelspec": {
      "display_name": "Python 3",
      "name": "python3"
    },
    "language_info": {
      "name": "python"
    }
  },
  "nbformat": 4,
  "nbformat_minor": 0
}