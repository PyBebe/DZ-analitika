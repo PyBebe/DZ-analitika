{
  "cells": [
    {
      "cell_type": "markdown",
      "metadata": {
        "id": "Vj6t52GCXHV9"
      },
      "source": [
        "# Домашнее задание к лекции \"Функции\"\n",
        "\n",
        "Вам нужно помочь секретарю автоматизировать работу. Для этого нужно написать программу, которая будет на основе хранимых данных исполнять пользовательские команды.\n",
        "\n",
        "Общие требования к программе:\n",
        "\n",
        "*   код должен быть грамотно декомпозирован (каждая функция отвечает за свою конкретную задачу, дублирующийся функционал переиспользуется, а его код не повторяется);\n",
        "*   в коде отсутствуют глобальные переменные (за исключением documents и directories);\n",
        "*   пользовательский ввод обрабатывается в цикле while до тех пор, пока пользователь явно не завершит программу (вводом команды \"q\")."
      ]
    },
    {
      "cell_type": "code",
      "execution_count": null,
      "metadata": {
        "colab": {
          "base_uri": "https://localhost:8080/"
        },
        "id": "6_wSPO32aQev",
        "outputId": "dcd8c36a-8234-4dcb-c572-d404c415fef0"
      },
      "outputs": [
        {
          "output_type": "stream",
          "name": "stdout",
          "text": [
            "Введите команду: d\n",
            "Введите номер документа: 10006\n",
            "Документ удален.\n",
            "Текущий список документов:\n",
            "№: 2207 876234, тип: passport, владелец: Василий Гупкин, полка хранения: 1\n",
            "№: 11-2, тип: invoice, владелец: Геннадий Покемонов, полка хранения: 1\n",
            "Введите команду: q\n",
            "Сеанс завершен. До свидания!\n"
          ]
        }
      ],
      "source": [
        "documents = [\n",
        "    {'type': 'passport', 'number': '2207 876234', 'name': 'Василий Гупкин'},\n",
        "    {'type': 'invoice', 'number': '11-2', 'name': 'Геннадий Покемонов'},\n",
        "    {'type': 'insurance', 'number': '10006', 'name': 'Аристарх Павлов'}\n",
        "]\n",
        "\n",
        "directories = {\n",
        "    '1': ['2207 876234', '11-2'],\n",
        "    '2': ['10006'],\n",
        "    '3': []\n",
        "}\n",
        "\n",
        "def get_current_shelves():\n",
        "    result = ', '.join(list(directories.keys()))\n",
        "    return result\n",
        "\n",
        "def main():\n",
        "\n",
        "    \"\"\"Вас приветствует Ассистент секретаря!\n",
        "\n",
        "     Доступные команды:\n",
        "  l - получение детальной информации по всем документам;\n",
        "  p - поиск владельца документа по его номеру;\n",
        "  s - поиск полки с документом по его номеру;\n",
        "  ad - добавление нового документа в базу данных;\n",
        "  m - перемещение документа на другую полку;\n",
        "  d - удаление документа из базы данных;\n",
        "  ads - добавление новой полки;\n",
        "  ds - удаление пустой полки;\n",
        "  q - выход из программы.\"\"\"\n",
        "\n",
        "    while command := input('Введите команду: ').lower():\n",
        "        match command:\n",
        "            case 'l':\n",
        "                get_docs_info()\n",
        "            case 'p':\n",
        "                find_owner()\n",
        "            case 's':\n",
        "                find_shelf()\n",
        "            case 'ad':\n",
        "                add_doc()\n",
        "            case 'm':\n",
        "                move_doc()\n",
        "            case 'd':\n",
        "                delete_doc()\n",
        "            case 'ads':\n",
        "                add_shelf()\n",
        "            case 'ds':\n",
        "                delete_shelf()\n",
        "            case 'q':\n",
        "                print('Сеанс завершен. До свидания!')\n",
        "                break\n",
        "\n",
        "main()"
      ]
    },
    {
      "cell_type": "markdown",
      "metadata": {
        "id": "or4poKAsZqv-"
      },
      "source": [
        "## Задание 1"
      ]
    },
    {
      "cell_type": "markdown",
      "metadata": {
        "id": "2wNbaBXbqgHu"
      },
      "source": [
        "### Пункт 1. Пользователь по команде \"p\" может узнать владельца документа по его номеру"
      ]
    },
    {
      "cell_type": "code",
      "execution_count": null,
      "metadata": {
        "id": "-ThBJSyqW3Li"
      },
      "outputs": [],
      "source": [
        "def find_owner():\n",
        "    doc_number = input('Введите номер документа: ')\n",
        "    for doc in documents:\n",
        "        if doc_number in doc.values():\n",
        "            print(f\"Владелец документа: {doc['name']}\")\n",
        "            break\n",
        "    else:\n",
        "        print('Документ не найден в базе')"
      ]
    },
    {
      "cell_type": "markdown",
      "metadata": {
        "id": "xR0vRiC5qJX9"
      },
      "source": [
        "### Пункт 2. Пользователь по команде \"s\" может по номеру документа узнать на какой полке он хранится"
      ]
    },
    {
      "cell_type": "code",
      "execution_count": null,
      "metadata": {
        "id": "7IWVh4L1qasL"
      },
      "outputs": [],
      "source": [
        "def find_shelf():\n",
        "    doc_number = input('Введите номер документа: ')\n",
        "    for direct in directories.items():\n",
        "        if doc_number in direct[1]:\n",
        "            print(f'Документ хранится на полке: {direct[0]}')\n",
        "            break\n",
        "    else:\n",
        "        print('Документ не найден в базе')"
      ]
    },
    {
      "cell_type": "markdown",
      "metadata": {
        "id": "FGYvJAZSzqCQ"
      },
      "source": [
        "### Пункт 3. Пользователь по команде \"l\" может увидеть полную информацию по всем документам"
      ]
    },
    {
      "cell_type": "code",
      "execution_count": null,
      "metadata": {
        "id": "76GAYpe7z1K3"
      },
      "outputs": [],
      "source": [
        "def get_docs_info():\n",
        "    for doc in documents:\n",
        "        for direct in directories.items():\n",
        "            if doc['number'] in direct[1]:\n",
        "                print(f\"№: {doc['number']}, тип: {doc['type']}, владелец: {doc['name']}, полка хранения: {direct[0]}\")\n",
        "                break"
      ]
    },
    {
      "cell_type": "markdown",
      "metadata": {
        "id": "k9JtEPWO_pw5"
      },
      "source": [
        "### Пункт 4. Пользователь по команде \"ads\" может добавить новую полку"
      ]
    },
    {
      "cell_type": "code",
      "execution_count": null,
      "metadata": {
        "id": "ONZhx-Ev_vm8"
      },
      "outputs": [],
      "source": [
        "def add_shelf():\n",
        "    new_shelf = input('Введите номер полки: ')\n",
        "    if new_shelf in directories:\n",
        "        print(f\"Такая полка уже существует. Текущий перечень полок: {get_current_shelves()}.\")\n",
        "    else:\n",
        "        directories[new_shelf] = []\n",
        "        print(f\"Полка добавлена. Текущий перечень полок: {get_current_shelves()}.\")"
      ]
    },
    {
      "cell_type": "markdown",
      "metadata": {
        "id": "Cit3zpGWF1sN"
      },
      "source": [
        "### Пункт 5. Пользователь по команде \"ds\" может удалить существующую полку из данных (только если она пустая)"
      ]
    },
    {
      "cell_type": "code",
      "execution_count": null,
      "metadata": {
        "id": "dMImM0V6GAEM"
      },
      "outputs": [],
      "source": [
        "def delete_shelf():\n",
        "    shelf_number = input('Введите номер полки: ')\n",
        "    result = directories.get(shelf_number, 'None')\n",
        "    if result == 'None':\n",
        "        print(f\"Такой полки не существует. Текущий перечень полок: {get_current_shelves()}.\")\n",
        "    elif len(result) == 0:\n",
        "        del(directories[shelf_number])\n",
        "        print(f\"Полка удалена. Текущий перечень полок: {get_current_shelves()}.\")\n",
        "    else:\n",
        "        print(f\"На полке есть документы, удалите их перед удалением полки. Текущий перечень полок: {get_current_shelves()}.\")"
      ]
    },
    {
      "cell_type": "markdown",
      "source": [
        "## Задание 2\n",
        "\n",
        "Вам необходимо дополнить программу из задания 1 более продвинутыми командами."
      ],
      "metadata": {
        "id": "SI95IK0JK-YK"
      }
    },
    {
      "cell_type": "markdown",
      "source": [
        "### Пункт 1. Пользователь по команде \"ad\" может добавить новый документ в данные"
      ],
      "metadata": {
        "id": "0tYr-8J4MLIH"
      }
    },
    {
      "cell_type": "code",
      "source": [
        "def add_doc():\n",
        "    doc = {}\n",
        "    doc['number'] = input('Введите номер документа: ')\n",
        "    doc['type'] = input('Введите тип документа: ')\n",
        "    doc['name'] = input('Введите владельца документа: ')\n",
        "    shelf_number = input('Введите полку для хранения: ')\n",
        "    result = directories.get(shelf_number, 'None')\n",
        "    if result == 'None':\n",
        "        print('Такой полки не существует. Добавьте полку командой as.')\n",
        "        print('Текущий список документов:')\n",
        "        get_docs_info()\n",
        "    else:\n",
        "        documents.append(doc)\n",
        "        directories[shelf_number].append(doc['number'])\n",
        "        print('Документ добавлен. Текущий список документов:')\n",
        "        get_docs_info()"
      ],
      "metadata": {
        "id": "y6_fYSj6MOVQ"
      },
      "execution_count": null,
      "outputs": []
    },
    {
      "cell_type": "markdown",
      "source": [
        "### Пункт 2. Пользователь по команде \"d\" может удалить документ из данных"
      ],
      "metadata": {
        "id": "v3sXErQVTIJ-"
      }
    },
    {
      "cell_type": "code",
      "source": [
        "def delete_doc():\n",
        "    doc_number = input('Введите номер документа: ')\n",
        "    if doc_number in sum(directories.values(), []):\n",
        "        for doc in documents:\n",
        "            if doc['number'] == doc_number:\n",
        "                documents.remove(doc)\n",
        "                break\n",
        "        for direct in directories.items():\n",
        "            if doc_number in direct[1]:\n",
        "                directories[direct[0]].remove(doc_number)\n",
        "                break\n",
        "        print('Документ удален.')\n",
        "        print('Текущий список документов:')\n",
        "        get_docs_info()\n",
        "    else:\n",
        "        print('Документ не найден в базе.')\n",
        "        print('Текущий список документов:')\n",
        "        get_docs_info()"
      ],
      "metadata": {
        "id": "lsjVEA09TLRK"
      },
      "execution_count": null,
      "outputs": []
    },
    {
      "cell_type": "markdown",
      "source": [
        "### Пункт 3. Пользователь по команде \"m\" может переместить документ с полки на полку"
      ],
      "metadata": {
        "id": "fp3ArhbmRB6W"
      }
    },
    {
      "cell_type": "code",
      "source": [
        "def move_doc():\n",
        "    doc_number = input('Введите номер документа: ')\n",
        "    shelf_number = input('Введите номер полки: ')\n",
        "    result = directories.get(shelf_number, 'None')\n",
        "    if result == 'None':\n",
        "        print(f\"Такой полки не существует. Текущий перечень полок: {get_current_shelves()}.\")\n",
        "    else:\n",
        "        for direct in directories.items():\n",
        "            if doc_number in direct[1]:\n",
        "                directories[direct[0]].remove(doc_number)\n",
        "                directories[shelf_number].append(doc_number)\n",
        "                print('Документ перемещен.')\n",
        "                print('Текущий список документов:')\n",
        "                get_docs_info()\n",
        "                break\n",
        "        else:\n",
        "            print('Документ не найден в базе.')\n",
        "            print('Текущий список документов:')\n",
        "            get_docs_info()"
      ],
      "metadata": {
        "id": "Z-FZzX1hREmu"
      },
      "execution_count": null,
      "outputs": []
    }
  ],
  "metadata": {
    "colab": {
      "provenance": [],
      "authorship_tag": "ABX9TyNA3aM3bSCXb+2kniHsChg8"
    },
    "kernelspec": {
      "display_name": "Python 3",
      "name": "python3"
    },
    "language_info": {
      "name": "python"
    }
  },
  "nbformat": 4,
  "nbformat_minor": 0
}