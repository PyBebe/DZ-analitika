{
  "nbformat": 4,
  "nbformat_minor": 0,
  "metadata": {
    "colab": {
      "provenance": [],
      "authorship_tag": "ABX9TyO7F4fAakfrTE3cAl8X5GZt"
    },
    "kernelspec": {
      "name": "python3",
      "display_name": "Python 3"
    },
    "language_info": {
      "name": "python"
    }
  },
  "cells": [
    {
      "cell_type": "markdown",
      "source": [
        "# Домашнее задание к лекции \"Исключения и обработка ошибок\""
      ],
      "metadata": {
        "id": "ym7_q6hPp00N"
      }
    },
    {
      "cell_type": "markdown",
      "source": [
        "## Задание 1\n",
        "\n",
        "Печатные газеты использовали свой формат дат для каждого выпуска. Для каждой газеты из списка напишите формат указанной даты для перевода в объект datetime:\n",
        "\n",
        "The Moscow Times — Wednesday, October 2, 2002\n",
        "\n",
        "The Guardian — Friday, 11.10.13\n",
        "\n",
        "Daily News — Thursday, 18 August 1977"
      ],
      "metadata": {
        "id": "bK3Amn-Ep9ph"
      }
    },
    {
      "cell_type": "code",
      "execution_count": null,
      "metadata": {
        "colab": {
          "base_uri": "https://localhost:8080/"
        },
        "id": "KO3iKvPrppmJ",
        "outputId": "c95e810c-8c95-434b-ddb4-1704d2a26a06"
      },
      "outputs": [
        {
          "output_type": "stream",
          "name": "stdout",
          "text": [
            "2002-10-02 00:00:00 2013-10-11 00:00:00 1977-08-18 00:00:00\n"
          ]
        }
      ],
      "source": [
        "from datetime import datetime\n",
        "\n",
        "the_moscow_times = 'Wednesday, October 2, 2002'\n",
        "the_guardian = 'Friday, 11.10.13'\n",
        "daily_news = 'Thursday, 18 August 1977'\n",
        "\n",
        "the_moscow_times_dt = datetime.strptime(the_moscow_times, '%A, %B %d, %Y')\n",
        "the_guardian_dt = datetime.strptime(the_guardian, '%A, %d.%m.%y')\n",
        "daily_news_dt = datetime.strptime(daily_news, '%A, %d %B %Y')\n",
        "\n",
        "print(the_moscow_times_dt, the_guardian_dt, daily_news_dt)"
      ]
    },
    {
      "cell_type": "markdown",
      "source": [
        "## Задание 2\n",
        "\n",
        "Дан поток дат в формате YYYY-MM-DD, в которых встречаются некорректные значения:\n",
        "stream = [‘2018-04-02’, ‘2018-02-29’, ‘2018-19-02’]\n",
        "\n",
        "Напишите функцию, которая проверяет эти даты на корректность. То есть для каждой даты возвращает True — дата корректна или False — некорректная."
      ],
      "metadata": {
        "id": "GbYo_8oVuFP2"
      }
    },
    {
      "cell_type": "code",
      "source": [
        "from datetime import datetime\n",
        "\n",
        "stream = ['2018-04-02', '2018-02-29', '2018-19-02']\n",
        "\n",
        "def check_date(data):\n",
        "    for i in data:\n",
        "        try:\n",
        "            datetime.strptime(i, '%Y-%m-%d')\n",
        "            print('True')\n",
        "        except:\n",
        "            print('False')\n",
        "\n",
        "check_date(stream)"
      ],
      "metadata": {
        "colab": {
          "base_uri": "https://localhost:8080/"
        },
        "id": "_ck-XLjDui0L",
        "outputId": "21f9f8f5-59ad-4f5b-a3c2-49125b2dd45f"
      },
      "execution_count": null,
      "outputs": [
        {
          "output_type": "stream",
          "name": "stdout",
          "text": [
            "True\n",
            "False\n",
            "False\n"
          ]
        }
      ]
    },
    {
      "cell_type": "markdown",
      "source": [
        "## Задание 3\n",
        "\n",
        "Напишите функцию date_range, которая возвращает список дат за период от start_date до end_date. Даты должны вводиться в формате YYYY-MM-DD. В случае неверного формата или при start_date > end_date должен возвращаться пустой список."
      ],
      "metadata": {
        "id": "1mII8Zvq0LNZ"
      }
    },
    {
      "cell_type": "code",
      "source": [
        "from datetime import datetime\n",
        "from datetime import timedelta\n",
        "\n",
        "def get_date_range():\n",
        "    start_date = input('Введите начальную дату: ')\n",
        "    end_date = input('Введите конечную дату: ')\n",
        "    date_format = '%Y-%m-%d'\n",
        "    date_range = []\n",
        "    try: # Проверка корректности дат и их формата\n",
        "        start_date_dt = datetime.strptime(start_date, date_format)\n",
        "        end_date_dt = datetime.strptime(end_date, date_format)\n",
        "    except:\n",
        "        return date_range\n",
        "    date_range = [(start_date_dt + timedelta(days=x)).strftime('%Y-%m-%d') for x in range((end_date_dt - start_date_dt).days + 1) if start_date_dt < end_date_dt]\n",
        "    return date_range\n",
        "\n",
        "print(get_date_range())"
      ],
      "metadata": {
        "colab": {
          "base_uri": "https://localhost:8080/"
        },
        "id": "QcDIvrDx0giK",
        "outputId": "d22ce44d-1761-4618-ddcc-4eec2c52aae3"
      },
      "execution_count": null,
      "outputs": [
        {
          "output_type": "stream",
          "name": "stdout",
          "text": [
            "Введите начальную дату: 2018-10-13\n",
            "Введите конечную дату: 2018.10.25\n",
            "[]\n"
          ]
        }
      ]
    },
    {
      "cell_type": "markdown",
      "source": [
        "## Задание 4\n",
        "\n",
        "Ваш коллега прислал код функции:\n",
        "\n",
        "DEFAULT_USER_COUNT = 3\n",
        "\n",
        "def delete_and_return_last_user(region, default_list=[‘A100’, ‘A101’, ‘A102’]):\n",
        "\n",
        "\"\"“\n",
        "Удаляет из списка default_list последнего пользователя\n",
        "и возвращает ID нового последнего пользователя.\n",
        "”\"\"\n",
        "\n",
        "element_to_delete = default_list[-1]\n",
        "\n",
        "default_list.remove(element_to_delete)\n",
        "\n",
        "return default_list[DEFAULT_USER_COUNT-2]\n",
        "\n",
        "При однократном вызове этой функции всё работает корректно:\n",
        "\n",
        "delete_and_return_last_user(1)\n",
        "\n",
        "‘A101’\n",
        "\n",
        "Однако при повторном вызове получается ошибка IndexError: list index out of range.\n",
        "\n",
        "Задание:\n",
        "\n",
        "1. Что значит ошибка list index out of range?\n",
        "\n",
        "2. Почему при первом запуске функция работает корректно, а при втором — нет?"
      ],
      "metadata": {
        "id": "cxd8UXiOF2nz"
      }
    },
    {
      "cell_type": "markdown",
      "source": [
        "Ответ:\n",
        "\n",
        "1. Данная ошибка означает попытку доступа к несуществующему элементу списка.\n",
        "Встречается, когда программа обращается к элементу списка по индексу, который не входит в число существующих индексов данного списка. Или когда программа обращается к некоему списку, который сама же меняет при своем вызове. В результате чего может возникать конфликт данных, когда программа повторно обращается к элементам, которые были изменены или уже не существуют в памяти.\n",
        "\n",
        "2. При первом запуске код отрабатывает корректно: удаляется последний элемент списка, состоящего из 3 элементов.\n",
        "При повторном запуске первая часть программы отрабатывает корректно - удаляется последний элемент измененного прошлым запуском списка. В списке остается один элемент с индексом 0. Но на следующем шаге программа пытается обратиться к несуществующему элементу списка с индексом 1. Так как в ретерне у нас записано неизменное выражение - разница переменной со значением 3 и числа 2. А в списке элемента с индексом 1, который пытается вернуть функция, уже нет."
      ],
      "metadata": {
        "id": "V5QHH40cJ23R"
      }
    }
  ]
}